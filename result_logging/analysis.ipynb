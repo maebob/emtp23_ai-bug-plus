{
 "cells": [
  {
   "cell_type": "code",
   "execution_count": 1,
   "metadata": {},
   "outputs": [],
   "source": [
    "import pandas as pd\n",
    "import numpy as np"
   ]
  },
  {
   "cell_type": "code",
   "execution_count": 2,
   "metadata": {},
   "outputs": [],
   "source": [
    "df = pd.read_csv(\"/Users/mayte/GitHub/BugPlusEngine/result_logging/log_train_run_PPO_4_edges_action_clipping.csv\", sep=\";\")"
   ]
  },
  {
   "cell_type": "code",
   "execution_count": 3,
   "metadata": {},
   "outputs": [
    {
     "data": {
      "text/html": [
       "<div>\n",
       "<style scoped>\n",
       "    .dataframe tbody tr th:only-of-type {\n",
       "        vertical-align: middle;\n",
       "    }\n",
       "\n",
       "    .dataframe tbody tr th {\n",
       "        vertical-align: top;\n",
       "    }\n",
       "\n",
       "    .dataframe thead th {\n",
       "        text-align: right;\n",
       "    }\n",
       "</style>\n",
       "<table border=\"1\" class=\"dataframe\">\n",
       "  <thead>\n",
       "    <tr style=\"text-align: right;\">\n",
       "      <th></th>\n",
       "      <th>index</th>\n",
       "      <th>reward</th>\n",
       "      <th>config</th>\n",
       "    </tr>\n",
       "  </thead>\n",
       "  <tbody>\n",
       "    <tr>\n",
       "      <th>12</th>\n",
       "      <td>23368</td>\n",
       "      <td>100</td>\n",
       "      <td>[6 6 10 0 0 0 0 0 0 0 0 0 0 0 0 1 0 1 0 0 0 0 ...</td>\n",
       "    </tr>\n",
       "    <tr>\n",
       "      <th>37</th>\n",
       "      <td>10099</td>\n",
       "      <td>100</td>\n",
       "      <td>[5 7 16 0 0 0 0 0 0 0 0 0 0 0 0 0 1 1 0 0 0 0 ...</td>\n",
       "    </tr>\n",
       "    <tr>\n",
       "      <th>39</th>\n",
       "      <td>22846</td>\n",
       "      <td>100</td>\n",
       "      <td>[7 9 48 0 0 0 0 1 0 0 0 0 0 0 1 1 1 1 0 0 0 0 ...</td>\n",
       "    </tr>\n",
       "    <tr>\n",
       "      <th>64</th>\n",
       "      <td>47214</td>\n",
       "      <td>100</td>\n",
       "      <td>[8 6 24 0 0 0 0 0 0 0 0 0 0 0 0 1 1 0 0 0 0 0 ...</td>\n",
       "    </tr>\n",
       "    <tr>\n",
       "      <th>89</th>\n",
       "      <td>15685</td>\n",
       "      <td>100</td>\n",
       "      <td>[9 6 72 0 0 0 0 0 0 0 0 0 0 0 0 1 1 1 0 0 0 0 ...</td>\n",
       "    </tr>\n",
       "  </tbody>\n",
       "</table>\n",
       "</div>"
      ],
      "text/plain": [
       "    index  reward                                             config\n",
       "12  23368     100  [6 6 10 0 0 0 0 0 0 0 0 0 0 0 0 1 0 1 0 0 0 0 ...\n",
       "37  10099     100  [5 7 16 0 0 0 0 0 0 0 0 0 0 0 0 0 1 1 0 0 0 0 ...\n",
       "39  22846     100  [7 9 48 0 0 0 0 1 0 0 0 0 0 0 1 1 1 1 0 0 0 0 ...\n",
       "64  47214     100  [8 6 24 0 0 0 0 0 0 0 0 0 0 0 0 1 1 0 0 0 0 0 ...\n",
       "89  15685     100  [9 6 72 0 0 0 0 0 0 0 0 0 0 0 0 1 1 1 0 0 0 0 ..."
      ]
     },
     "execution_count": 3,
     "metadata": {},
     "output_type": "execute_result"
    }
   ],
   "source": [
    "# gdf for successfully solved problems\n",
    "df_100 = df[df['reward']==100]\n",
    "df_100.head()"
   ]
  },
  {
   "cell_type": "code",
   "execution_count": 4,
   "metadata": {},
   "outputs": [
    {
     "data": {
      "text/plain": [
       "5295     79\n",
       "22466    78\n",
       "16935    78\n",
       "5315     78\n",
       "7272     77\n",
       "Name: index, dtype: int64"
      ]
     },
     "execution_count": 4,
     "metadata": {},
     "output_type": "execute_result"
    }
   ],
   "source": [
    "# count how many times each index is in df_100\n",
    "df_solved = df_100['index'].value_counts()\n",
    "df_solved.head()"
   ]
  },
  {
   "cell_type": "code",
   "execution_count": 5,
   "metadata": {},
   "outputs": [
    {
     "data": {
      "text/html": [
       "<div>\n",
       "<style scoped>\n",
       "    .dataframe tbody tr th:only-of-type {\n",
       "        vertical-align: middle;\n",
       "    }\n",
       "\n",
       "    .dataframe tbody tr th {\n",
       "        vertical-align: top;\n",
       "    }\n",
       "\n",
       "    .dataframe thead th {\n",
       "        text-align: right;\n",
       "    }\n",
       "</style>\n",
       "<table border=\"1\" class=\"dataframe\">\n",
       "  <thead>\n",
       "    <tr style=\"text-align: right;\">\n",
       "      <th></th>\n",
       "      <th>index</th>\n",
       "      <th>count_100</th>\n",
       "    </tr>\n",
       "  </thead>\n",
       "  <tbody>\n",
       "    <tr>\n",
       "      <th>0</th>\n",
       "      <td>5295</td>\n",
       "      <td>79</td>\n",
       "    </tr>\n",
       "    <tr>\n",
       "      <th>1</th>\n",
       "      <td>22466</td>\n",
       "      <td>78</td>\n",
       "    </tr>\n",
       "    <tr>\n",
       "      <th>2</th>\n",
       "      <td>16935</td>\n",
       "      <td>78</td>\n",
       "    </tr>\n",
       "    <tr>\n",
       "      <th>3</th>\n",
       "      <td>5315</td>\n",
       "      <td>78</td>\n",
       "    </tr>\n",
       "    <tr>\n",
       "      <th>4</th>\n",
       "      <td>7272</td>\n",
       "      <td>77</td>\n",
       "    </tr>\n",
       "  </tbody>\n",
       "</table>\n",
       "</div>"
      ],
      "text/plain": [
       "   index  count_100\n",
       "0   5295         79\n",
       "1  22466         78\n",
       "2  16935         78\n",
       "3   5315         78\n",
       "4   7272         77"
      ]
     },
     "execution_count": 5,
     "metadata": {},
     "output_type": "execute_result"
    }
   ],
   "source": [
    "#rename columns:\n",
    "df_solved = df_solved.rename_axis('index').reset_index(name='count_100')\n",
    "df_solved.head()"
   ]
  },
  {
   "cell_type": "code",
   "execution_count": 6,
   "metadata": {},
   "outputs": [],
   "source": [
    "# merge df and df_solved\n",
    "df_merged = pd.merge(df, df_solved, on='index', how='left')"
   ]
  },
  {
   "cell_type": "code",
   "execution_count": 7,
   "metadata": {},
   "outputs": [
    {
     "data": {
      "text/html": [
       "<div>\n",
       "<style scoped>\n",
       "    .dataframe tbody tr th:only-of-type {\n",
       "        vertical-align: middle;\n",
       "    }\n",
       "\n",
       "    .dataframe tbody tr th {\n",
       "        vertical-align: top;\n",
       "    }\n",
       "\n",
       "    .dataframe thead th {\n",
       "        text-align: right;\n",
       "    }\n",
       "</style>\n",
       "<table border=\"1\" class=\"dataframe\">\n",
       "  <thead>\n",
       "    <tr style=\"text-align: right;\">\n",
       "      <th></th>\n",
       "      <th>index</th>\n",
       "      <th>reward</th>\n",
       "      <th>config</th>\n",
       "      <th>count_100</th>\n",
       "    </tr>\n",
       "  </thead>\n",
       "  <tbody>\n",
       "    <tr>\n",
       "      <th>0</th>\n",
       "      <td>20349</td>\n",
       "      <td>-10</td>\n",
       "      <td>[9 6 30 0 0 0 0 0 0 0 0 0 0 0 0 1 0 1 0 0 0 0 ...</td>\n",
       "      <td>32</td>\n",
       "    </tr>\n",
       "    <tr>\n",
       "      <th>1</th>\n",
       "      <td>12731</td>\n",
       "      <td>-10</td>\n",
       "      <td>[6 7 12 0 0 0 0 0 0 0 0 0 0 0 0 1 1 1 0 0 0 0 ...</td>\n",
       "      <td>40</td>\n",
       "    </tr>\n",
       "    <tr>\n",
       "      <th>2</th>\n",
       "      <td>20533</td>\n",
       "      <td>-10</td>\n",
       "      <td>[5 7 56 0 0 0 0 0 0 0 0 0 0 0 0 1 1 1 0 0 0 0 ...</td>\n",
       "      <td>23</td>\n",
       "    </tr>\n",
       "    <tr>\n",
       "      <th>3</th>\n",
       "      <td>41315</td>\n",
       "      <td>-10</td>\n",
       "      <td>[6 9 24 0 0 0 0 0 0 0 0 0 0 0 0 1 1 1 0 0 0 0 ...</td>\n",
       "      <td>33</td>\n",
       "    </tr>\n",
       "    <tr>\n",
       "      <th>4</th>\n",
       "      <td>22524</td>\n",
       "      <td>-10</td>\n",
       "      <td>[6 5 8 0 0 0 0 0 0 0 0 0 1 0 0 0 1 1 1 0 0 0 0...</td>\n",
       "      <td>30</td>\n",
       "    </tr>\n",
       "  </tbody>\n",
       "</table>\n",
       "</div>"
      ],
      "text/plain": [
       "   index  reward                                             config  count_100\n",
       "0  20349     -10  [9 6 30 0 0 0 0 0 0 0 0 0 0 0 0 1 0 1 0 0 0 0 ...         32\n",
       "1  12731     -10  [6 7 12 0 0 0 0 0 0 0 0 0 0 0 0 1 1 1 0 0 0 0 ...         40\n",
       "2  20533     -10  [5 7 56 0 0 0 0 0 0 0 0 0 0 0 0 1 1 1 0 0 0 0 ...         23\n",
       "3  41315     -10  [6 9 24 0 0 0 0 0 0 0 0 0 0 0 0 1 1 1 0 0 0 0 ...         33\n",
       "4  22524     -10  [6 5 8 0 0 0 0 0 0 0 0 0 1 0 0 0 1 1 1 0 0 0 0...         30"
      ]
     },
     "execution_count": 7,
     "metadata": {},
     "output_type": "execute_result"
    }
   ],
   "source": [
    "df_merged.head()"
   ]
  },
  {
   "cell_type": "code",
   "execution_count": 8,
   "metadata": {},
   "outputs": [
    {
     "data": {
      "text/plain": [
       "array([-10, 100,  -1])"
      ]
     },
     "execution_count": 8,
     "metadata": {},
     "output_type": "execute_result"
    }
   ],
   "source": [
    "df.reward.unique()"
   ]
  },
  {
   "cell_type": "code",
   "execution_count": 9,
   "metadata": {},
   "outputs": [
    {
     "data": {
      "text/html": [
       "<div>\n",
       "<style scoped>\n",
       "    .dataframe tbody tr th:only-of-type {\n",
       "        vertical-align: middle;\n",
       "    }\n",
       "\n",
       "    .dataframe tbody tr th {\n",
       "        vertical-align: top;\n",
       "    }\n",
       "\n",
       "    .dataframe thead th {\n",
       "        text-align: right;\n",
       "    }\n",
       "</style>\n",
       "<table border=\"1\" class=\"dataframe\">\n",
       "  <thead>\n",
       "    <tr style=\"text-align: right;\">\n",
       "      <th></th>\n",
       "      <th>index</th>\n",
       "      <th>reward</th>\n",
       "      <th>config</th>\n",
       "    </tr>\n",
       "  </thead>\n",
       "  <tbody>\n",
       "    <tr>\n",
       "      <th>14</th>\n",
       "      <td>33842</td>\n",
       "      <td>-1</td>\n",
       "      <td>[6 8 14 0 0 0 0 0 0 0 0 0 0 0 0 1 0 1 0 0 0 0 ...</td>\n",
       "    </tr>\n",
       "    <tr>\n",
       "      <th>15</th>\n",
       "      <td>33842</td>\n",
       "      <td>-1</td>\n",
       "      <td>[6 8 14 0 0 0 0 0 0 0 0 0 0 0 0 1 0 1 0 0 0 0 ...</td>\n",
       "    </tr>\n",
       "    <tr>\n",
       "      <th>16</th>\n",
       "      <td>33842</td>\n",
       "      <td>-1</td>\n",
       "      <td>[6 8 14 0 0 0 0 0 0 0 0 0 0 0 0 1 0 1 0 0 0 0 ...</td>\n",
       "    </tr>\n",
       "    <tr>\n",
       "      <th>17</th>\n",
       "      <td>33842</td>\n",
       "      <td>-1</td>\n",
       "      <td>[6 8 14 0 0 0 0 0 0 0 0 0 0 0 0 1 0 1 0 0 0 0 ...</td>\n",
       "    </tr>\n",
       "    <tr>\n",
       "      <th>18</th>\n",
       "      <td>33842</td>\n",
       "      <td>-1</td>\n",
       "      <td>[6 8 14 0 0 0 0 0 0 0 0 0 0 0 0 1 0 1 0 0 0 0 ...</td>\n",
       "    </tr>\n",
       "  </tbody>\n",
       "</table>\n",
       "</div>"
      ],
      "text/plain": [
       "    index  reward                                             config\n",
       "14  33842      -1  [6 8 14 0 0 0 0 0 0 0 0 0 0 0 0 1 0 1 0 0 0 0 ...\n",
       "15  33842      -1  [6 8 14 0 0 0 0 0 0 0 0 0 0 0 0 1 0 1 0 0 0 0 ...\n",
       "16  33842      -1  [6 8 14 0 0 0 0 0 0 0 0 0 0 0 0 1 0 1 0 0 0 0 ...\n",
       "17  33842      -1  [6 8 14 0 0 0 0 0 0 0 0 0 0 0 0 1 0 1 0 0 0 0 ...\n",
       "18  33842      -1  [6 8 14 0 0 0 0 0 0 0 0 0 0 0 0 1 0 1 0 0 0 0 ..."
      ]
     },
     "execution_count": 9,
     "metadata": {},
     "output_type": "execute_result"
    }
   ],
   "source": [
    "df_minus1 = df[df['reward']==-1]\n",
    "df_minus1.head()"
   ]
  },
  {
   "cell_type": "code",
   "execution_count": 10,
   "metadata": {},
   "outputs": [
    {
     "data": {
      "text/plain": [
       "5530     10\n",
       "33211    10\n",
       "14642     9\n",
       "45882     9\n",
       "44563     9\n",
       "Name: index, dtype: int64"
      ]
     },
     "execution_count": 10,
     "metadata": {},
     "output_type": "execute_result"
    }
   ],
   "source": [
    "df_error = df_minus1['index'].value_counts()\n",
    "df_error.head()"
   ]
  },
  {
   "cell_type": "code",
   "execution_count": 11,
   "metadata": {},
   "outputs": [
    {
     "data": {
      "text/html": [
       "<div>\n",
       "<style scoped>\n",
       "    .dataframe tbody tr th:only-of-type {\n",
       "        vertical-align: middle;\n",
       "    }\n",
       "\n",
       "    .dataframe tbody tr th {\n",
       "        vertical-align: top;\n",
       "    }\n",
       "\n",
       "    .dataframe thead th {\n",
       "        text-align: right;\n",
       "    }\n",
       "</style>\n",
       "<table border=\"1\" class=\"dataframe\">\n",
       "  <thead>\n",
       "    <tr style=\"text-align: right;\">\n",
       "      <th></th>\n",
       "      <th>index</th>\n",
       "      <th>count_minus1</th>\n",
       "    </tr>\n",
       "  </thead>\n",
       "  <tbody>\n",
       "    <tr>\n",
       "      <th>0</th>\n",
       "      <td>5530</td>\n",
       "      <td>10</td>\n",
       "    </tr>\n",
       "    <tr>\n",
       "      <th>1</th>\n",
       "      <td>33211</td>\n",
       "      <td>10</td>\n",
       "    </tr>\n",
       "    <tr>\n",
       "      <th>2</th>\n",
       "      <td>14642</td>\n",
       "      <td>9</td>\n",
       "    </tr>\n",
       "    <tr>\n",
       "      <th>3</th>\n",
       "      <td>45882</td>\n",
       "      <td>9</td>\n",
       "    </tr>\n",
       "    <tr>\n",
       "      <th>4</th>\n",
       "      <td>44563</td>\n",
       "      <td>9</td>\n",
       "    </tr>\n",
       "  </tbody>\n",
       "</table>\n",
       "</div>"
      ],
      "text/plain": [
       "   index  count_minus1\n",
       "0   5530            10\n",
       "1  33211            10\n",
       "2  14642             9\n",
       "3  45882             9\n",
       "4  44563             9"
      ]
     },
     "execution_count": 11,
     "metadata": {},
     "output_type": "execute_result"
    }
   ],
   "source": [
    "df_error = df_error.rename_axis('index').reset_index(name='count_minus1')\n",
    "df_error.head()"
   ]
  },
  {
   "cell_type": "code",
   "execution_count": 12,
   "metadata": {},
   "outputs": [
    {
     "data": {
      "text/html": [
       "<div>\n",
       "<style scoped>\n",
       "    .dataframe tbody tr th:only-of-type {\n",
       "        vertical-align: middle;\n",
       "    }\n",
       "\n",
       "    .dataframe tbody tr th {\n",
       "        vertical-align: top;\n",
       "    }\n",
       "\n",
       "    .dataframe thead th {\n",
       "        text-align: right;\n",
       "    }\n",
       "</style>\n",
       "<table border=\"1\" class=\"dataframe\">\n",
       "  <thead>\n",
       "    <tr style=\"text-align: right;\">\n",
       "      <th></th>\n",
       "      <th>index</th>\n",
       "      <th>reward</th>\n",
       "      <th>config</th>\n",
       "      <th>count_100</th>\n",
       "      <th>count_minus1</th>\n",
       "    </tr>\n",
       "  </thead>\n",
       "  <tbody>\n",
       "    <tr>\n",
       "      <th>0</th>\n",
       "      <td>20349</td>\n",
       "      <td>-10</td>\n",
       "      <td>[9 6 30 0 0 0 0 0 0 0 0 0 0 0 0 1 0 1 0 0 0 0 ...</td>\n",
       "      <td>32</td>\n",
       "      <td>2.0</td>\n",
       "    </tr>\n",
       "    <tr>\n",
       "      <th>1</th>\n",
       "      <td>12731</td>\n",
       "      <td>-10</td>\n",
       "      <td>[6 7 12 0 0 0 0 0 0 0 0 0 0 0 0 1 1 1 0 0 0 0 ...</td>\n",
       "      <td>40</td>\n",
       "      <td>1.0</td>\n",
       "    </tr>\n",
       "    <tr>\n",
       "      <th>2</th>\n",
       "      <td>20533</td>\n",
       "      <td>-10</td>\n",
       "      <td>[5 7 56 0 0 0 0 0 0 0 0 0 0 0 0 1 1 1 0 0 0 0 ...</td>\n",
       "      <td>23</td>\n",
       "      <td>NaN</td>\n",
       "    </tr>\n",
       "    <tr>\n",
       "      <th>3</th>\n",
       "      <td>41315</td>\n",
       "      <td>-10</td>\n",
       "      <td>[6 9 24 0 0 0 0 0 0 0 0 0 0 0 0 1 1 1 0 0 0 0 ...</td>\n",
       "      <td>33</td>\n",
       "      <td>2.0</td>\n",
       "    </tr>\n",
       "    <tr>\n",
       "      <th>4</th>\n",
       "      <td>22524</td>\n",
       "      <td>-10</td>\n",
       "      <td>[6 5 8 0 0 0 0 0 0 0 0 0 1 0 0 0 1 1 1 0 0 0 0...</td>\n",
       "      <td>30</td>\n",
       "      <td>NaN</td>\n",
       "    </tr>\n",
       "  </tbody>\n",
       "</table>\n",
       "</div>"
      ],
      "text/plain": [
       "   index  reward                                             config  \\\n",
       "0  20349     -10  [9 6 30 0 0 0 0 0 0 0 0 0 0 0 0 1 0 1 0 0 0 0 ...   \n",
       "1  12731     -10  [6 7 12 0 0 0 0 0 0 0 0 0 0 0 0 1 1 1 0 0 0 0 ...   \n",
       "2  20533     -10  [5 7 56 0 0 0 0 0 0 0 0 0 0 0 0 1 1 1 0 0 0 0 ...   \n",
       "3  41315     -10  [6 9 24 0 0 0 0 0 0 0 0 0 0 0 0 1 1 1 0 0 0 0 ...   \n",
       "4  22524     -10  [6 5 8 0 0 0 0 0 0 0 0 0 1 0 0 0 1 1 1 0 0 0 0...   \n",
       "\n",
       "   count_100  count_minus1  \n",
       "0         32           2.0  \n",
       "1         40           1.0  \n",
       "2         23           NaN  \n",
       "3         33           2.0  \n",
       "4         30           NaN  "
      ]
     },
     "execution_count": 12,
     "metadata": {},
     "output_type": "execute_result"
    }
   ],
   "source": [
    "# merge df and df_error\n",
    "df_merged = pd.merge(df_merged, df_error, on='index', how='left')\n",
    "df_merged.head()"
   ]
  },
  {
   "cell_type": "code",
   "execution_count": 13,
   "metadata": {},
   "outputs": [
    {
     "data": {
      "text/html": [
       "<div>\n",
       "<style scoped>\n",
       "    .dataframe tbody tr th:only-of-type {\n",
       "        vertical-align: middle;\n",
       "    }\n",
       "\n",
       "    .dataframe tbody tr th {\n",
       "        vertical-align: top;\n",
       "    }\n",
       "\n",
       "    .dataframe thead th {\n",
       "        text-align: right;\n",
       "    }\n",
       "</style>\n",
       "<table border=\"1\" class=\"dataframe\">\n",
       "  <thead>\n",
       "    <tr style=\"text-align: right;\">\n",
       "      <th></th>\n",
       "      <th>index</th>\n",
       "      <th>reward</th>\n",
       "      <th>config</th>\n",
       "    </tr>\n",
       "  </thead>\n",
       "  <tbody>\n",
       "    <tr>\n",
       "      <th>0</th>\n",
       "      <td>20349</td>\n",
       "      <td>-10</td>\n",
       "      <td>[9 6 30 0 0 0 0 0 0 0 0 0 0 0 0 1 0 1 0 0 0 0 ...</td>\n",
       "    </tr>\n",
       "    <tr>\n",
       "      <th>1</th>\n",
       "      <td>12731</td>\n",
       "      <td>-10</td>\n",
       "      <td>[6 7 12 0 0 0 0 0 0 0 0 0 0 0 0 1 1 1 0 0 0 0 ...</td>\n",
       "    </tr>\n",
       "    <tr>\n",
       "      <th>2</th>\n",
       "      <td>20533</td>\n",
       "      <td>-10</td>\n",
       "      <td>[5 7 56 0 0 0 0 0 0 0 0 0 0 0 0 1 1 1 0 0 0 0 ...</td>\n",
       "    </tr>\n",
       "    <tr>\n",
       "      <th>3</th>\n",
       "      <td>41315</td>\n",
       "      <td>-10</td>\n",
       "      <td>[6 9 24 0 0 0 0 0 0 0 0 0 0 0 0 1 1 1 0 0 0 0 ...</td>\n",
       "    </tr>\n",
       "    <tr>\n",
       "      <th>4</th>\n",
       "      <td>22524</td>\n",
       "      <td>-10</td>\n",
       "      <td>[6 5 8 0 0 0 0 0 0 0 0 0 1 0 0 0 1 1 1 0 0 0 0...</td>\n",
       "    </tr>\n",
       "  </tbody>\n",
       "</table>\n",
       "</div>"
      ],
      "text/plain": [
       "   index  reward                                             config\n",
       "0  20349     -10  [9 6 30 0 0 0 0 0 0 0 0 0 0 0 0 1 0 1 0 0 0 0 ...\n",
       "1  12731     -10  [6 7 12 0 0 0 0 0 0 0 0 0 0 0 0 1 1 1 0 0 0 0 ...\n",
       "2  20533     -10  [5 7 56 0 0 0 0 0 0 0 0 0 0 0 0 1 1 1 0 0 0 0 ...\n",
       "3  41315     -10  [6 9 24 0 0 0 0 0 0 0 0 0 0 0 0 1 1 1 0 0 0 0 ...\n",
       "4  22524     -10  [6 5 8 0 0 0 0 0 0 0 0 0 1 0 0 0 1 1 1 0 0 0 0..."
      ]
     },
     "execution_count": 13,
     "metadata": {},
     "output_type": "execute_result"
    }
   ],
   "source": [
    "df_minus10 = df[df['reward']==-10]\n",
    "df_minus10.head()"
   ]
  },
  {
   "cell_type": "code",
   "execution_count": 14,
   "metadata": {},
   "outputs": [
    {
     "data": {
      "text/plain": [
       "2382     5\n",
       "45290    5\n",
       "22233    5\n",
       "43033    5\n",
       "24103    4\n",
       "Name: index, dtype: int64"
      ]
     },
     "execution_count": 14,
     "metadata": {},
     "output_type": "execute_result"
    }
   ],
   "source": [
    "df_loop = df_minus10['index'].value_counts()\n",
    "df_loop.head()"
   ]
  },
  {
   "cell_type": "code",
   "execution_count": 15,
   "metadata": {},
   "outputs": [
    {
     "data": {
      "text/html": [
       "<div>\n",
       "<style scoped>\n",
       "    .dataframe tbody tr th:only-of-type {\n",
       "        vertical-align: middle;\n",
       "    }\n",
       "\n",
       "    .dataframe tbody tr th {\n",
       "        vertical-align: top;\n",
       "    }\n",
       "\n",
       "    .dataframe thead th {\n",
       "        text-align: right;\n",
       "    }\n",
       "</style>\n",
       "<table border=\"1\" class=\"dataframe\">\n",
       "  <thead>\n",
       "    <tr style=\"text-align: right;\">\n",
       "      <th></th>\n",
       "      <th>index</th>\n",
       "      <th>count_minus10</th>\n",
       "    </tr>\n",
       "  </thead>\n",
       "  <tbody>\n",
       "    <tr>\n",
       "      <th>0</th>\n",
       "      <td>2382</td>\n",
       "      <td>5</td>\n",
       "    </tr>\n",
       "    <tr>\n",
       "      <th>1</th>\n",
       "      <td>45290</td>\n",
       "      <td>5</td>\n",
       "    </tr>\n",
       "    <tr>\n",
       "      <th>2</th>\n",
       "      <td>22233</td>\n",
       "      <td>5</td>\n",
       "    </tr>\n",
       "    <tr>\n",
       "      <th>3</th>\n",
       "      <td>43033</td>\n",
       "      <td>5</td>\n",
       "    </tr>\n",
       "    <tr>\n",
       "      <th>4</th>\n",
       "      <td>24103</td>\n",
       "      <td>4</td>\n",
       "    </tr>\n",
       "  </tbody>\n",
       "</table>\n",
       "</div>"
      ],
      "text/plain": [
       "   index  count_minus10\n",
       "0   2382              5\n",
       "1  45290              5\n",
       "2  22233              5\n",
       "3  43033              5\n",
       "4  24103              4"
      ]
     },
     "execution_count": 15,
     "metadata": {},
     "output_type": "execute_result"
    }
   ],
   "source": [
    "#rename columns:\n",
    "df_loop = df_loop.rename_axis('index').reset_index(name='count_minus10')\n",
    "df_loop.head()"
   ]
  },
  {
   "cell_type": "code",
   "execution_count": 16,
   "metadata": {},
   "outputs": [
    {
     "data": {
      "text/html": [
       "<div>\n",
       "<style scoped>\n",
       "    .dataframe tbody tr th:only-of-type {\n",
       "        vertical-align: middle;\n",
       "    }\n",
       "\n",
       "    .dataframe tbody tr th {\n",
       "        vertical-align: top;\n",
       "    }\n",
       "\n",
       "    .dataframe thead th {\n",
       "        text-align: right;\n",
       "    }\n",
       "</style>\n",
       "<table border=\"1\" class=\"dataframe\">\n",
       "  <thead>\n",
       "    <tr style=\"text-align: right;\">\n",
       "      <th></th>\n",
       "      <th>index</th>\n",
       "      <th>reward</th>\n",
       "      <th>config</th>\n",
       "      <th>count_100</th>\n",
       "      <th>count_minus1</th>\n",
       "      <th>count_minus10</th>\n",
       "    </tr>\n",
       "  </thead>\n",
       "  <tbody>\n",
       "    <tr>\n",
       "      <th>0</th>\n",
       "      <td>20349</td>\n",
       "      <td>-10</td>\n",
       "      <td>[9 6 30 0 0 0 0 0 0 0 0 0 0 0 0 1 0 1 0 0 0 0 ...</td>\n",
       "      <td>32</td>\n",
       "      <td>2.0</td>\n",
       "      <td>1.0</td>\n",
       "    </tr>\n",
       "    <tr>\n",
       "      <th>1</th>\n",
       "      <td>12731</td>\n",
       "      <td>-10</td>\n",
       "      <td>[6 7 12 0 0 0 0 0 0 0 0 0 0 0 0 1 1 1 0 0 0 0 ...</td>\n",
       "      <td>40</td>\n",
       "      <td>1.0</td>\n",
       "      <td>2.0</td>\n",
       "    </tr>\n",
       "    <tr>\n",
       "      <th>2</th>\n",
       "      <td>20533</td>\n",
       "      <td>-10</td>\n",
       "      <td>[5 7 56 0 0 0 0 0 0 0 0 0 0 0 0 1 1 1 0 0 0 0 ...</td>\n",
       "      <td>23</td>\n",
       "      <td>NaN</td>\n",
       "      <td>2.0</td>\n",
       "    </tr>\n",
       "    <tr>\n",
       "      <th>3</th>\n",
       "      <td>41315</td>\n",
       "      <td>-10</td>\n",
       "      <td>[6 9 24 0 0 0 0 0 0 0 0 0 0 0 0 1 1 1 0 0 0 0 ...</td>\n",
       "      <td>33</td>\n",
       "      <td>2.0</td>\n",
       "      <td>1.0</td>\n",
       "    </tr>\n",
       "    <tr>\n",
       "      <th>4</th>\n",
       "      <td>22524</td>\n",
       "      <td>-10</td>\n",
       "      <td>[6 5 8 0 0 0 0 0 0 0 0 0 1 0 0 0 1 1 1 0 0 0 0...</td>\n",
       "      <td>30</td>\n",
       "      <td>NaN</td>\n",
       "      <td>2.0</td>\n",
       "    </tr>\n",
       "  </tbody>\n",
       "</table>\n",
       "</div>"
      ],
      "text/plain": [
       "   index  reward                                             config  \\\n",
       "0  20349     -10  [9 6 30 0 0 0 0 0 0 0 0 0 0 0 0 1 0 1 0 0 0 0 ...   \n",
       "1  12731     -10  [6 7 12 0 0 0 0 0 0 0 0 0 0 0 0 1 1 1 0 0 0 0 ...   \n",
       "2  20533     -10  [5 7 56 0 0 0 0 0 0 0 0 0 0 0 0 1 1 1 0 0 0 0 ...   \n",
       "3  41315     -10  [6 9 24 0 0 0 0 0 0 0 0 0 0 0 0 1 1 1 0 0 0 0 ...   \n",
       "4  22524     -10  [6 5 8 0 0 0 0 0 0 0 0 0 1 0 0 0 1 1 1 0 0 0 0...   \n",
       "\n",
       "   count_100  count_minus1  count_minus10  \n",
       "0         32           2.0            1.0  \n",
       "1         40           1.0            2.0  \n",
       "2         23           NaN            2.0  \n",
       "3         33           2.0            1.0  \n",
       "4         30           NaN            2.0  "
      ]
     },
     "execution_count": 16,
     "metadata": {},
     "output_type": "execute_result"
    }
   ],
   "source": [
    "df_merged = pd.merge(df_merged, df_loop, on='index', how='left')\n",
    "df_merged.head()"
   ]
  },
  {
   "cell_type": "code",
   "execution_count": null,
   "metadata": {},
   "outputs": [],
   "source": [
    "\n"
   ]
  }
 ],
 "metadata": {
  "kernelspec": {
   "display_name": "venv",
   "language": "python",
   "name": "python3"
  },
  "language_info": {
   "codemirror_mode": {
    "name": "ipython",
    "version": 3
   },
   "file_extension": ".py",
   "mimetype": "text/x-python",
   "name": "python",
   "nbconvert_exporter": "python",
   "pygments_lexer": "ipython3",
   "version": "3.10.6"
  },
  "orig_nbformat": 4
 },
 "nbformat": 4,
 "nbformat_minor": 2
}
