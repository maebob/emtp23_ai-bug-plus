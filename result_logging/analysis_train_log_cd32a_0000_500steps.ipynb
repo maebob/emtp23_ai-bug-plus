{
 "cells": [
  {
   "cell_type": "code",
   "execution_count": 1,
   "metadata": {},
   "outputs": [],
   "source": [
    "import pandas as pd\n",
    "import numpy as np"
   ]
  },
  {
   "cell_type": "code",
   "execution_count": 2,
   "metadata": {},
   "outputs": [
    {
     "ename": "FileNotFoundError",
     "evalue": "[Errno 2] No such file or directory: 'cd32a_00000_log_train_run_PPO_4_edges_action_clipping.csv'",
     "output_type": "error",
     "traceback": [
      "\u001b[0;31m---------------------------------------------------------------------------\u001b[0m",
      "\u001b[0;31mFileNotFoundError\u001b[0m                         Traceback (most recent call last)",
      "Cell \u001b[0;32mIn[2], line 1\u001b[0m\n\u001b[0;32m----> 1\u001b[0m df_original \u001b[39m=\u001b[39m pd\u001b[39m.\u001b[39;49mread_csv(\u001b[39m\"\u001b[39;49m\u001b[39mcd32a_00000_log_train_run_PPO_4_edges_action_clipping.csv\u001b[39;49m\u001b[39m\"\u001b[39;49m, sep\u001b[39m=\u001b[39;49m\u001b[39m\"\u001b[39;49m\u001b[39m;\u001b[39;49m\u001b[39m\"\u001b[39;49m)\n\u001b[1;32m      2\u001b[0m \u001b[39m# only use the first 500_000 entries (= 500 steps in W&B)\u001b[39;00m\n\u001b[1;32m      3\u001b[0m df_original \u001b[39m=\u001b[39m df_original[:\u001b[39m500_000\u001b[39m]\n",
      "File \u001b[0;32m~/Documents/GitHub/BugPlusEngine/env/lib/python3.10/site-packages/pandas/util/_decorators.py:211\u001b[0m, in \u001b[0;36mdeprecate_kwarg.<locals>._deprecate_kwarg.<locals>.wrapper\u001b[0;34m(*args, **kwargs)\u001b[0m\n\u001b[1;32m    209\u001b[0m     \u001b[39melse\u001b[39;00m:\n\u001b[1;32m    210\u001b[0m         kwargs[new_arg_name] \u001b[39m=\u001b[39m new_arg_value\n\u001b[0;32m--> 211\u001b[0m \u001b[39mreturn\u001b[39;00m func(\u001b[39m*\u001b[39;49margs, \u001b[39m*\u001b[39;49m\u001b[39m*\u001b[39;49mkwargs)\n",
      "File \u001b[0;32m~/Documents/GitHub/BugPlusEngine/env/lib/python3.10/site-packages/pandas/util/_decorators.py:331\u001b[0m, in \u001b[0;36mdeprecate_nonkeyword_arguments.<locals>.decorate.<locals>.wrapper\u001b[0;34m(*args, **kwargs)\u001b[0m\n\u001b[1;32m    325\u001b[0m \u001b[39mif\u001b[39;00m \u001b[39mlen\u001b[39m(args) \u001b[39m>\u001b[39m num_allow_args:\n\u001b[1;32m    326\u001b[0m     warnings\u001b[39m.\u001b[39mwarn(\n\u001b[1;32m    327\u001b[0m         msg\u001b[39m.\u001b[39mformat(arguments\u001b[39m=\u001b[39m_format_argument_list(allow_args)),\n\u001b[1;32m    328\u001b[0m         \u001b[39mFutureWarning\u001b[39;00m,\n\u001b[1;32m    329\u001b[0m         stacklevel\u001b[39m=\u001b[39mfind_stack_level(),\n\u001b[1;32m    330\u001b[0m     )\n\u001b[0;32m--> 331\u001b[0m \u001b[39mreturn\u001b[39;00m func(\u001b[39m*\u001b[39;49margs, \u001b[39m*\u001b[39;49m\u001b[39m*\u001b[39;49mkwargs)\n",
      "File \u001b[0;32m~/Documents/GitHub/BugPlusEngine/env/lib/python3.10/site-packages/pandas/io/parsers/readers.py:950\u001b[0m, in \u001b[0;36mread_csv\u001b[0;34m(filepath_or_buffer, sep, delimiter, header, names, index_col, usecols, squeeze, prefix, mangle_dupe_cols, dtype, engine, converters, true_values, false_values, skipinitialspace, skiprows, skipfooter, nrows, na_values, keep_default_na, na_filter, verbose, skip_blank_lines, parse_dates, infer_datetime_format, keep_date_col, date_parser, dayfirst, cache_dates, iterator, chunksize, compression, thousands, decimal, lineterminator, quotechar, quoting, doublequote, escapechar, comment, encoding, encoding_errors, dialect, error_bad_lines, warn_bad_lines, on_bad_lines, delim_whitespace, low_memory, memory_map, float_precision, storage_options)\u001b[0m\n\u001b[1;32m    935\u001b[0m kwds_defaults \u001b[39m=\u001b[39m _refine_defaults_read(\n\u001b[1;32m    936\u001b[0m     dialect,\n\u001b[1;32m    937\u001b[0m     delimiter,\n\u001b[0;32m   (...)\u001b[0m\n\u001b[1;32m    946\u001b[0m     defaults\u001b[39m=\u001b[39m{\u001b[39m\"\u001b[39m\u001b[39mdelimiter\u001b[39m\u001b[39m\"\u001b[39m: \u001b[39m\"\u001b[39m\u001b[39m,\u001b[39m\u001b[39m\"\u001b[39m},\n\u001b[1;32m    947\u001b[0m )\n\u001b[1;32m    948\u001b[0m kwds\u001b[39m.\u001b[39mupdate(kwds_defaults)\n\u001b[0;32m--> 950\u001b[0m \u001b[39mreturn\u001b[39;00m _read(filepath_or_buffer, kwds)\n",
      "File \u001b[0;32m~/Documents/GitHub/BugPlusEngine/env/lib/python3.10/site-packages/pandas/io/parsers/readers.py:605\u001b[0m, in \u001b[0;36m_read\u001b[0;34m(filepath_or_buffer, kwds)\u001b[0m\n\u001b[1;32m    602\u001b[0m _validate_names(kwds\u001b[39m.\u001b[39mget(\u001b[39m\"\u001b[39m\u001b[39mnames\u001b[39m\u001b[39m\"\u001b[39m, \u001b[39mNone\u001b[39;00m))\n\u001b[1;32m    604\u001b[0m \u001b[39m# Create the parser.\u001b[39;00m\n\u001b[0;32m--> 605\u001b[0m parser \u001b[39m=\u001b[39m TextFileReader(filepath_or_buffer, \u001b[39m*\u001b[39;49m\u001b[39m*\u001b[39;49mkwds)\n\u001b[1;32m    607\u001b[0m \u001b[39mif\u001b[39;00m chunksize \u001b[39mor\u001b[39;00m iterator:\n\u001b[1;32m    608\u001b[0m     \u001b[39mreturn\u001b[39;00m parser\n",
      "File \u001b[0;32m~/Documents/GitHub/BugPlusEngine/env/lib/python3.10/site-packages/pandas/io/parsers/readers.py:1442\u001b[0m, in \u001b[0;36mTextFileReader.__init__\u001b[0;34m(self, f, engine, **kwds)\u001b[0m\n\u001b[1;32m   1439\u001b[0m     \u001b[39mself\u001b[39m\u001b[39m.\u001b[39moptions[\u001b[39m\"\u001b[39m\u001b[39mhas_index_names\u001b[39m\u001b[39m\"\u001b[39m] \u001b[39m=\u001b[39m kwds[\u001b[39m\"\u001b[39m\u001b[39mhas_index_names\u001b[39m\u001b[39m\"\u001b[39m]\n\u001b[1;32m   1441\u001b[0m \u001b[39mself\u001b[39m\u001b[39m.\u001b[39mhandles: IOHandles \u001b[39m|\u001b[39m \u001b[39mNone\u001b[39;00m \u001b[39m=\u001b[39m \u001b[39mNone\u001b[39;00m\n\u001b[0;32m-> 1442\u001b[0m \u001b[39mself\u001b[39m\u001b[39m.\u001b[39m_engine \u001b[39m=\u001b[39m \u001b[39mself\u001b[39;49m\u001b[39m.\u001b[39;49m_make_engine(f, \u001b[39mself\u001b[39;49m\u001b[39m.\u001b[39;49mengine)\n",
      "File \u001b[0;32m~/Documents/GitHub/BugPlusEngine/env/lib/python3.10/site-packages/pandas/io/parsers/readers.py:1735\u001b[0m, in \u001b[0;36mTextFileReader._make_engine\u001b[0;34m(self, f, engine)\u001b[0m\n\u001b[1;32m   1733\u001b[0m     \u001b[39mif\u001b[39;00m \u001b[39m\"\u001b[39m\u001b[39mb\u001b[39m\u001b[39m\"\u001b[39m \u001b[39mnot\u001b[39;00m \u001b[39min\u001b[39;00m mode:\n\u001b[1;32m   1734\u001b[0m         mode \u001b[39m+\u001b[39m\u001b[39m=\u001b[39m \u001b[39m\"\u001b[39m\u001b[39mb\u001b[39m\u001b[39m\"\u001b[39m\n\u001b[0;32m-> 1735\u001b[0m \u001b[39mself\u001b[39m\u001b[39m.\u001b[39mhandles \u001b[39m=\u001b[39m get_handle(\n\u001b[1;32m   1736\u001b[0m     f,\n\u001b[1;32m   1737\u001b[0m     mode,\n\u001b[1;32m   1738\u001b[0m     encoding\u001b[39m=\u001b[39;49m\u001b[39mself\u001b[39;49m\u001b[39m.\u001b[39;49moptions\u001b[39m.\u001b[39;49mget(\u001b[39m\"\u001b[39;49m\u001b[39mencoding\u001b[39;49m\u001b[39m\"\u001b[39;49m, \u001b[39mNone\u001b[39;49;00m),\n\u001b[1;32m   1739\u001b[0m     compression\u001b[39m=\u001b[39;49m\u001b[39mself\u001b[39;49m\u001b[39m.\u001b[39;49moptions\u001b[39m.\u001b[39;49mget(\u001b[39m\"\u001b[39;49m\u001b[39mcompression\u001b[39;49m\u001b[39m\"\u001b[39;49m, \u001b[39mNone\u001b[39;49;00m),\n\u001b[1;32m   1740\u001b[0m     memory_map\u001b[39m=\u001b[39;49m\u001b[39mself\u001b[39;49m\u001b[39m.\u001b[39;49moptions\u001b[39m.\u001b[39;49mget(\u001b[39m\"\u001b[39;49m\u001b[39mmemory_map\u001b[39;49m\u001b[39m\"\u001b[39;49m, \u001b[39mFalse\u001b[39;49;00m),\n\u001b[1;32m   1741\u001b[0m     is_text\u001b[39m=\u001b[39;49mis_text,\n\u001b[1;32m   1742\u001b[0m     errors\u001b[39m=\u001b[39;49m\u001b[39mself\u001b[39;49m\u001b[39m.\u001b[39;49moptions\u001b[39m.\u001b[39;49mget(\u001b[39m\"\u001b[39;49m\u001b[39mencoding_errors\u001b[39;49m\u001b[39m\"\u001b[39;49m, \u001b[39m\"\u001b[39;49m\u001b[39mstrict\u001b[39;49m\u001b[39m\"\u001b[39;49m),\n\u001b[1;32m   1743\u001b[0m     storage_options\u001b[39m=\u001b[39;49m\u001b[39mself\u001b[39;49m\u001b[39m.\u001b[39;49moptions\u001b[39m.\u001b[39;49mget(\u001b[39m\"\u001b[39;49m\u001b[39mstorage_options\u001b[39;49m\u001b[39m\"\u001b[39;49m, \u001b[39mNone\u001b[39;49;00m),\n\u001b[1;32m   1744\u001b[0m )\n\u001b[1;32m   1745\u001b[0m \u001b[39massert\u001b[39;00m \u001b[39mself\u001b[39m\u001b[39m.\u001b[39mhandles \u001b[39mis\u001b[39;00m \u001b[39mnot\u001b[39;00m \u001b[39mNone\u001b[39;00m\n\u001b[1;32m   1746\u001b[0m f \u001b[39m=\u001b[39m \u001b[39mself\u001b[39m\u001b[39m.\u001b[39mhandles\u001b[39m.\u001b[39mhandle\n",
      "File \u001b[0;32m~/Documents/GitHub/BugPlusEngine/env/lib/python3.10/site-packages/pandas/io/common.py:856\u001b[0m, in \u001b[0;36mget_handle\u001b[0;34m(path_or_buf, mode, encoding, compression, memory_map, is_text, errors, storage_options)\u001b[0m\n\u001b[1;32m    851\u001b[0m \u001b[39melif\u001b[39;00m \u001b[39misinstance\u001b[39m(handle, \u001b[39mstr\u001b[39m):\n\u001b[1;32m    852\u001b[0m     \u001b[39m# Check whether the filename is to be opened in binary mode.\u001b[39;00m\n\u001b[1;32m    853\u001b[0m     \u001b[39m# Binary mode does not support 'encoding' and 'newline'.\u001b[39;00m\n\u001b[1;32m    854\u001b[0m     \u001b[39mif\u001b[39;00m ioargs\u001b[39m.\u001b[39mencoding \u001b[39mand\u001b[39;00m \u001b[39m\"\u001b[39m\u001b[39mb\u001b[39m\u001b[39m\"\u001b[39m \u001b[39mnot\u001b[39;00m \u001b[39min\u001b[39;00m ioargs\u001b[39m.\u001b[39mmode:\n\u001b[1;32m    855\u001b[0m         \u001b[39m# Encoding\u001b[39;00m\n\u001b[0;32m--> 856\u001b[0m         handle \u001b[39m=\u001b[39m \u001b[39mopen\u001b[39;49m(\n\u001b[1;32m    857\u001b[0m             handle,\n\u001b[1;32m    858\u001b[0m             ioargs\u001b[39m.\u001b[39;49mmode,\n\u001b[1;32m    859\u001b[0m             encoding\u001b[39m=\u001b[39;49mioargs\u001b[39m.\u001b[39;49mencoding,\n\u001b[1;32m    860\u001b[0m             errors\u001b[39m=\u001b[39;49merrors,\n\u001b[1;32m    861\u001b[0m             newline\u001b[39m=\u001b[39;49m\u001b[39m\"\u001b[39;49m\u001b[39m\"\u001b[39;49m,\n\u001b[1;32m    862\u001b[0m         )\n\u001b[1;32m    863\u001b[0m     \u001b[39melse\u001b[39;00m:\n\u001b[1;32m    864\u001b[0m         \u001b[39m# Binary mode\u001b[39;00m\n\u001b[1;32m    865\u001b[0m         handle \u001b[39m=\u001b[39m \u001b[39mopen\u001b[39m(handle, ioargs\u001b[39m.\u001b[39mmode)\n",
      "\u001b[0;31mFileNotFoundError\u001b[0m: [Errno 2] No such file or directory: 'cd32a_00000_log_train_run_PPO_4_edges_action_clipping.csv'"
     ]
    }
   ],
   "source": [
    "df_original = pd.read_csv(\"cd32a_00000_log_train_run_PPO_4_edges_action_clipping.csv\", sep=\";\")\n",
    "# only use the first 500_000 entries (= 500 steps in W&B)\n",
    "df_original = df_original[:500_000]"
   ]
  },
  {
   "cell_type": "code",
   "execution_count": null,
   "metadata": {},
   "outputs": [
    {
     "data": {
      "text/plain": [
       "array([-10, 100,  -1])"
      ]
     },
     "execution_count": 72,
     "metadata": {},
     "output_type": "execute_result"
    }
   ],
   "source": [
    "df_original.reward.unique()"
   ]
  },
  {
   "cell_type": "code",
   "execution_count": null,
   "metadata": {},
   "outputs": [
    {
     "data": {
      "text/plain": [
       " 100    1490834\n",
       "-1        65282\n",
       "-10       16781\n",
       "Name: reward, dtype: int64"
      ]
     },
     "execution_count": 73,
     "metadata": {},
     "output_type": "execute_result"
    }
   ],
   "source": [
    "#count how many times each value in reward is in df:\n",
    "df_original.reward.value_counts()\n"
   ]
  },
  {
   "cell_type": "code",
   "execution_count": null,
   "metadata": {},
   "outputs": [
    {
     "name": "stdout",
     "output_type": "stream",
     "text": [
      "1572897\n",
      "1572897\n"
     ]
    }
   ],
   "source": [
    "# 1_572_897\n",
    "number_steps = 1490834 + 65282 + 16781\n",
    "print(number_steps)\n",
    "\n",
    "length_df = len(df_original)\n",
    "print(length_df)\n",
    "# Halleluja, counts match!"
   ]
  },
  {
   "cell_type": "code",
   "execution_count": null,
   "metadata": {},
   "outputs": [
    {
     "name": "stdout",
     "output_type": "stream",
     "text": [
      "94.78\n",
      "4.15\n",
      "1.07\n"
     ]
    }
   ],
   "source": [
    "n_100 = df_original.reward.value_counts()[100]\n",
    "n_minus1 = df_original.reward.value_counts()[-1]\n",
    "n_minus10 = df_original.reward.value_counts()[-10]\n",
    "\n",
    "print(round(n_100/number_steps*100, 2))\n",
    "print(round(n_minus1/number_steps*100, 2))\n",
    "print(round(n_minus10/number_steps*100, 2))"
   ]
  },
  {
   "attachments": {},
   "cell_type": "markdown",
   "metadata": {},
   "source": [
    "### Result 1:\n",
    "* within approx. 1.6 million steps  \n",
    "    * about 95% of steps lead to a solved problem\n",
    "    * about 1% lead to a loop in the board\n",
    "    * about 4% lead to a wrong value as a result, reached the maximum episode length or any other error"
   ]
  },
  {
   "cell_type": "code",
   "execution_count": null,
   "metadata": {},
   "outputs": [
    {
     "data": {
      "text/html": [
       "<div>\n",
       "<style scoped>\n",
       "    .dataframe tbody tr th:only-of-type {\n",
       "        vertical-align: middle;\n",
       "    }\n",
       "\n",
       "    .dataframe tbody tr th {\n",
       "        vertical-align: top;\n",
       "    }\n",
       "\n",
       "    .dataframe thead th {\n",
       "        text-align: right;\n",
       "    }\n",
       "</style>\n",
       "<table border=\"1\" class=\"dataframe\">\n",
       "  <thead>\n",
       "    <tr style=\"text-align: right;\">\n",
       "      <th></th>\n",
       "      <th>problem_id</th>\n",
       "      <th>reward</th>\n",
       "      <th>config</th>\n",
       "      <th>count_100</th>\n",
       "    </tr>\n",
       "  </thead>\n",
       "  <tbody>\n",
       "    <tr>\n",
       "      <th>0</th>\n",
       "      <td>20349</td>\n",
       "      <td>-10</td>\n",
       "      <td>[9 6 30 0 0 0 0 0 0 0 0 0 0 0 0 1 0 1 0 0 0 0 ...</td>\n",
       "      <td>32</td>\n",
       "    </tr>\n",
       "    <tr>\n",
       "      <th>1</th>\n",
       "      <td>12731</td>\n",
       "      <td>-10</td>\n",
       "      <td>[6 7 12 0 0 0 0 0 0 0 0 0 0 0 0 1 1 1 0 0 0 0 ...</td>\n",
       "      <td>40</td>\n",
       "    </tr>\n",
       "    <tr>\n",
       "      <th>2</th>\n",
       "      <td>20533</td>\n",
       "      <td>-10</td>\n",
       "      <td>[5 7 56 0 0 0 0 0 0 0 0 0 0 0 0 1 1 1 0 0 0 0 ...</td>\n",
       "      <td>23</td>\n",
       "    </tr>\n",
       "    <tr>\n",
       "      <th>3</th>\n",
       "      <td>41315</td>\n",
       "      <td>-10</td>\n",
       "      <td>[6 9 24 0 0 0 0 0 0 0 0 0 0 0 0 1 1 1 0 0 0 0 ...</td>\n",
       "      <td>33</td>\n",
       "    </tr>\n",
       "    <tr>\n",
       "      <th>4</th>\n",
       "      <td>22524</td>\n",
       "      <td>-10</td>\n",
       "      <td>[6 5 8 0 0 0 0 0 0 0 0 0 1 0 0 0 1 1 1 0 0 0 0...</td>\n",
       "      <td>30</td>\n",
       "    </tr>\n",
       "  </tbody>\n",
       "</table>\n",
       "</div>"
      ],
      "text/plain": [
       "   problem_id  reward                                             config  \\\n",
       "0       20349     -10  [9 6 30 0 0 0 0 0 0 0 0 0 0 0 0 1 0 1 0 0 0 0 ...   \n",
       "1       12731     -10  [6 7 12 0 0 0 0 0 0 0 0 0 0 0 0 1 1 1 0 0 0 0 ...   \n",
       "2       20533     -10  [5 7 56 0 0 0 0 0 0 0 0 0 0 0 0 1 1 1 0 0 0 0 ...   \n",
       "3       41315     -10  [6 9 24 0 0 0 0 0 0 0 0 0 0 0 0 1 1 1 0 0 0 0 ...   \n",
       "4       22524     -10  [6 5 8 0 0 0 0 0 0 0 0 0 1 0 0 0 1 1 1 0 0 0 0...   \n",
       "\n",
       "   count_100  \n",
       "0         32  \n",
       "1         40  \n",
       "2         23  \n",
       "3         33  \n",
       "4         30  "
      ]
     },
     "execution_count": 43,
     "metadata": {},
     "output_type": "execute_result"
    }
   ],
   "source": [
    "# Inspecting each group of reward values:\n",
    "# reward = 100\n",
    "\n",
    "# Succesfully solved problems:\n",
    "df_100 = df_original[df_original['reward']==100]\n",
    "df_solved = df_100['problem_id'].value_counts() # count how many times each index is in df_100\n",
    "df_solved = df_solved.rename_axis('problem_id').reset_index(name='count_100') # rename columns\n",
    "df = pd.merge(df_original, df_solved, on='problem_id', how='left') # merge with original df\n",
    "df.head()"
   ]
  },
  {
   "cell_type": "code",
   "execution_count": null,
   "metadata": {},
   "outputs": [
    {
     "data": {
      "text/html": [
       "<div>\n",
       "<style scoped>\n",
       "    .dataframe tbody tr th:only-of-type {\n",
       "        vertical-align: middle;\n",
       "    }\n",
       "\n",
       "    .dataframe tbody tr th {\n",
       "        vertical-align: top;\n",
       "    }\n",
       "\n",
       "    .dataframe thead th {\n",
       "        text-align: right;\n",
       "    }\n",
       "</style>\n",
       "<table border=\"1\" class=\"dataframe\">\n",
       "  <thead>\n",
       "    <tr style=\"text-align: right;\">\n",
       "      <th></th>\n",
       "      <th>problem_id</th>\n",
       "      <th>reward</th>\n",
       "      <th>config</th>\n",
       "      <th>count_100</th>\n",
       "      <th>count_minus1</th>\n",
       "    </tr>\n",
       "  </thead>\n",
       "  <tbody>\n",
       "    <tr>\n",
       "      <th>0</th>\n",
       "      <td>20349</td>\n",
       "      <td>-10</td>\n",
       "      <td>[9 6 30 0 0 0 0 0 0 0 0 0 0 0 0 1 0 1 0 0 0 0 ...</td>\n",
       "      <td>32</td>\n",
       "      <td>2.0</td>\n",
       "    </tr>\n",
       "    <tr>\n",
       "      <th>1</th>\n",
       "      <td>12731</td>\n",
       "      <td>-10</td>\n",
       "      <td>[6 7 12 0 0 0 0 0 0 0 0 0 0 0 0 1 1 1 0 0 0 0 ...</td>\n",
       "      <td>40</td>\n",
       "      <td>1.0</td>\n",
       "    </tr>\n",
       "    <tr>\n",
       "      <th>2</th>\n",
       "      <td>20533</td>\n",
       "      <td>-10</td>\n",
       "      <td>[5 7 56 0 0 0 0 0 0 0 0 0 0 0 0 1 1 1 0 0 0 0 ...</td>\n",
       "      <td>23</td>\n",
       "      <td>NaN</td>\n",
       "    </tr>\n",
       "    <tr>\n",
       "      <th>3</th>\n",
       "      <td>41315</td>\n",
       "      <td>-10</td>\n",
       "      <td>[6 9 24 0 0 0 0 0 0 0 0 0 0 0 0 1 1 1 0 0 0 0 ...</td>\n",
       "      <td>33</td>\n",
       "      <td>2.0</td>\n",
       "    </tr>\n",
       "    <tr>\n",
       "      <th>4</th>\n",
       "      <td>22524</td>\n",
       "      <td>-10</td>\n",
       "      <td>[6 5 8 0 0 0 0 0 0 0 0 0 1 0 0 0 1 1 1 0 0 0 0...</td>\n",
       "      <td>30</td>\n",
       "      <td>NaN</td>\n",
       "    </tr>\n",
       "  </tbody>\n",
       "</table>\n",
       "</div>"
      ],
      "text/plain": [
       "   problem_id  reward                                             config  \\\n",
       "0       20349     -10  [9 6 30 0 0 0 0 0 0 0 0 0 0 0 0 1 0 1 0 0 0 0 ...   \n",
       "1       12731     -10  [6 7 12 0 0 0 0 0 0 0 0 0 0 0 0 1 1 1 0 0 0 0 ...   \n",
       "2       20533     -10  [5 7 56 0 0 0 0 0 0 0 0 0 0 0 0 1 1 1 0 0 0 0 ...   \n",
       "3       41315     -10  [6 9 24 0 0 0 0 0 0 0 0 0 0 0 0 1 1 1 0 0 0 0 ...   \n",
       "4       22524     -10  [6 5 8 0 0 0 0 0 0 0 0 0 1 0 0 0 1 1 1 0 0 0 0...   \n",
       "\n",
       "   count_100  count_minus1  \n",
       "0         32           2.0  \n",
       "1         40           1.0  \n",
       "2         23           NaN  \n",
       "3         33           2.0  \n",
       "4         30           NaN  "
      ]
     },
     "execution_count": 45,
     "metadata": {},
     "output_type": "execute_result"
    }
   ],
   "source": [
    "# reward = -1 (error, no solution, max. steps reached, etc.)\n",
    "\n",
    "df_minus1 = df_original[df_original['reward']==-1]\n",
    "df_error = df_minus1['problem_id'].value_counts()\n",
    "df_error = df_error.rename_axis('problem_id').reset_index(name='count_minus1')\n",
    "df = pd.merge(df, df_error, on='problem_id', how='left')\n",
    "df.head()"
   ]
  },
  {
   "cell_type": "code",
   "execution_count": null,
   "metadata": {},
   "outputs": [
    {
     "data": {
      "text/html": [
       "<div>\n",
       "<style scoped>\n",
       "    .dataframe tbody tr th:only-of-type {\n",
       "        vertical-align: middle;\n",
       "    }\n",
       "\n",
       "    .dataframe tbody tr th {\n",
       "        vertical-align: top;\n",
       "    }\n",
       "\n",
       "    .dataframe thead th {\n",
       "        text-align: right;\n",
       "    }\n",
       "</style>\n",
       "<table border=\"1\" class=\"dataframe\">\n",
       "  <thead>\n",
       "    <tr style=\"text-align: right;\">\n",
       "      <th></th>\n",
       "      <th>problem_id</th>\n",
       "      <th>reward</th>\n",
       "      <th>config</th>\n",
       "      <th>count_100</th>\n",
       "      <th>count_minus1</th>\n",
       "      <th>count_minus10</th>\n",
       "    </tr>\n",
       "  </thead>\n",
       "  <tbody>\n",
       "    <tr>\n",
       "      <th>0</th>\n",
       "      <td>20349</td>\n",
       "      <td>-10</td>\n",
       "      <td>[9 6 30 0 0 0 0 0 0 0 0 0 0 0 0 1 0 1 0 0 0 0 ...</td>\n",
       "      <td>32</td>\n",
       "      <td>2.0</td>\n",
       "      <td>1.0</td>\n",
       "    </tr>\n",
       "    <tr>\n",
       "      <th>1</th>\n",
       "      <td>12731</td>\n",
       "      <td>-10</td>\n",
       "      <td>[6 7 12 0 0 0 0 0 0 0 0 0 0 0 0 1 1 1 0 0 0 0 ...</td>\n",
       "      <td>40</td>\n",
       "      <td>1.0</td>\n",
       "      <td>2.0</td>\n",
       "    </tr>\n",
       "    <tr>\n",
       "      <th>2</th>\n",
       "      <td>20533</td>\n",
       "      <td>-10</td>\n",
       "      <td>[5 7 56 0 0 0 0 0 0 0 0 0 0 0 0 1 1 1 0 0 0 0 ...</td>\n",
       "      <td>23</td>\n",
       "      <td>NaN</td>\n",
       "      <td>2.0</td>\n",
       "    </tr>\n",
       "    <tr>\n",
       "      <th>3</th>\n",
       "      <td>41315</td>\n",
       "      <td>-10</td>\n",
       "      <td>[6 9 24 0 0 0 0 0 0 0 0 0 0 0 0 1 1 1 0 0 0 0 ...</td>\n",
       "      <td>33</td>\n",
       "      <td>2.0</td>\n",
       "      <td>1.0</td>\n",
       "    </tr>\n",
       "    <tr>\n",
       "      <th>4</th>\n",
       "      <td>22524</td>\n",
       "      <td>-10</td>\n",
       "      <td>[6 5 8 0 0 0 0 0 0 0 0 0 1 0 0 0 1 1 1 0 0 0 0...</td>\n",
       "      <td>30</td>\n",
       "      <td>NaN</td>\n",
       "      <td>2.0</td>\n",
       "    </tr>\n",
       "  </tbody>\n",
       "</table>\n",
       "</div>"
      ],
      "text/plain": [
       "   problem_id  reward                                             config  \\\n",
       "0       20349     -10  [9 6 30 0 0 0 0 0 0 0 0 0 0 0 0 1 0 1 0 0 0 0 ...   \n",
       "1       12731     -10  [6 7 12 0 0 0 0 0 0 0 0 0 0 0 0 1 1 1 0 0 0 0 ...   \n",
       "2       20533     -10  [5 7 56 0 0 0 0 0 0 0 0 0 0 0 0 1 1 1 0 0 0 0 ...   \n",
       "3       41315     -10  [6 9 24 0 0 0 0 0 0 0 0 0 0 0 0 1 1 1 0 0 0 0 ...   \n",
       "4       22524     -10  [6 5 8 0 0 0 0 0 0 0 0 0 1 0 0 0 1 1 1 0 0 0 0...   \n",
       "\n",
       "   count_100  count_minus1  count_minus10  \n",
       "0         32           2.0            1.0  \n",
       "1         40           1.0            2.0  \n",
       "2         23           NaN            2.0  \n",
       "3         33           2.0            1.0  \n",
       "4         30           NaN            2.0  "
      ]
     },
     "execution_count": 47,
     "metadata": {},
     "output_type": "execute_result"
    }
   ],
   "source": [
    "# reward = -10 (loop)\n",
    "\n",
    "df_minus10 = df_original[df_original['reward']==-10]\n",
    "df_loop = df_minus10['problem_id'].value_counts()\n",
    "df_loop = df_loop.rename_axis('problem_id').reset_index(name='count_minus10')\n",
    "df = pd.merge(df, df_loop, on='problem_id', how='left')\n",
    "df.head()"
   ]
  },
  {
   "cell_type": "code",
   "execution_count": null,
   "metadata": {},
   "outputs": [],
   "source": [
    "# check if any problem was never solved\n",
    "df['unsolved'] = np.where(df['count_100'].isnull(), 1, 0)\n",
    "df.unsolved.describe()"
   ]
  },
  {
   "cell_type": "code",
   "execution_count": null,
   "metadata": {},
   "outputs": [
    {
     "data": {
      "text/plain": [
       "count    1.572897e+06\n",
       "mean     1.953636e+00\n",
       "std      1.534249e+00\n",
       "min      0.000000e+00\n",
       "25%      1.000000e+00\n",
       "50%      2.000000e+00\n",
       "75%      3.000000e+00\n",
       "max      1.000000e+01\n",
       "Name: count_error, dtype: float64"
      ]
     },
     "execution_count": 89,
     "metadata": {},
     "output_type": "execute_result"
    }
   ],
   "source": [
    "# check how many times a problem was not solved\n",
    "df['count_error'] = df['count_minus1'] + df['count_minus10']\n",
    "df.count_error.describe()"
   ]
  },
  {
   "cell_type": "code",
   "execution_count": null,
   "metadata": {},
   "outputs": [],
   "source": [
    "# replace NaN with 0\n",
    "df = df.fillna(0)"
   ]
  },
  {
   "cell_type": "code",
   "execution_count": null,
   "metadata": {},
   "outputs": [
    {
     "data": {
      "text/html": [
       "<div>\n",
       "<style scoped>\n",
       "    .dataframe tbody tr th:only-of-type {\n",
       "        vertical-align: middle;\n",
       "    }\n",
       "\n",
       "    .dataframe tbody tr th {\n",
       "        vertical-align: top;\n",
       "    }\n",
       "\n",
       "    .dataframe thead th {\n",
       "        text-align: right;\n",
       "    }\n",
       "</style>\n",
       "<table border=\"1\" class=\"dataframe\">\n",
       "  <thead>\n",
       "    <tr style=\"text-align: right;\">\n",
       "      <th></th>\n",
       "      <th>problem_id</th>\n",
       "      <th>reward</th>\n",
       "      <th>config</th>\n",
       "      <th>count_100</th>\n",
       "      <th>count_minus1</th>\n",
       "      <th>count_minus10</th>\n",
       "      <th>count_sum</th>\n",
       "      <th>ratio</th>\n",
       "    </tr>\n",
       "  </thead>\n",
       "  <tbody>\n",
       "    <tr>\n",
       "      <th>26125</th>\n",
       "      <td>42467</td>\n",
       "      <td>-1</td>\n",
       "      <td>[7 9 43 0 0 0 0 0 0 0 0 0 0 0 0 0 1 1 0 0 0 0 ...</td>\n",
       "      <td>9</td>\n",
       "      <td>6</td>\n",
       "      <td>0</td>\n",
       "      <td>15</td>\n",
       "      <td>0.428571</td>\n",
       "    </tr>\n",
       "    <tr>\n",
       "      <th>26123</th>\n",
       "      <td>42467</td>\n",
       "      <td>-1</td>\n",
       "      <td>[7 9 43 0 0 0 0 0 0 0 0 0 0 0 0 0 1 1 0 0 0 0 ...</td>\n",
       "      <td>9</td>\n",
       "      <td>6</td>\n",
       "      <td>0</td>\n",
       "      <td>15</td>\n",
       "      <td>0.428571</td>\n",
       "    </tr>\n",
       "    <tr>\n",
       "      <th>1434202</th>\n",
       "      <td>42467</td>\n",
       "      <td>100</td>\n",
       "      <td>[7 9 43 0 0 0 0 0 0 0 0 0 0 0 0 0 1 1 0 0 0 0 ...</td>\n",
       "      <td>9</td>\n",
       "      <td>6</td>\n",
       "      <td>0</td>\n",
       "      <td>15</td>\n",
       "      <td>0.428571</td>\n",
       "    </tr>\n",
       "    <tr>\n",
       "      <th>558405</th>\n",
       "      <td>10149</td>\n",
       "      <td>100</td>\n",
       "      <td>[5 9 36 0 0 0 0 0 0 0 0 0 0 0 0 1 1 1 0 0 0 0 ...</td>\n",
       "      <td>6</td>\n",
       "      <td>4</td>\n",
       "      <td>0</td>\n",
       "      <td>10</td>\n",
       "      <td>0.428571</td>\n",
       "    </tr>\n",
       "    <tr>\n",
       "      <th>263762</th>\n",
       "      <td>42467</td>\n",
       "      <td>-1</td>\n",
       "      <td>[7 9 43 0 0 0 0 0 0 0 0 0 0 0 0 0 1 1 0 0 0 0 ...</td>\n",
       "      <td>9</td>\n",
       "      <td>6</td>\n",
       "      <td>0</td>\n",
       "      <td>15</td>\n",
       "      <td>0.428571</td>\n",
       "    </tr>\n",
       "  </tbody>\n",
       "</table>\n",
       "</div>"
      ],
      "text/plain": [
       "         problem_id  reward  \\\n",
       "26125         42467      -1   \n",
       "26123         42467      -1   \n",
       "1434202       42467     100   \n",
       "558405        10149     100   \n",
       "263762        42467      -1   \n",
       "\n",
       "                                                    config  count_100  \\\n",
       "26125    [7 9 43 0 0 0 0 0 0 0 0 0 0 0 0 0 1 1 0 0 0 0 ...          9   \n",
       "26123    [7 9 43 0 0 0 0 0 0 0 0 0 0 0 0 0 1 1 0 0 0 0 ...          9   \n",
       "1434202  [7 9 43 0 0 0 0 0 0 0 0 0 0 0 0 0 1 1 0 0 0 0 ...          9   \n",
       "558405   [5 9 36 0 0 0 0 0 0 0 0 0 0 0 0 1 1 1 0 0 0 0 ...          6   \n",
       "263762   [7 9 43 0 0 0 0 0 0 0 0 0 0 0 0 0 1 1 0 0 0 0 ...          9   \n",
       "\n",
       "         count_minus1  count_minus10  count_sum     ratio  \n",
       "26125               6              0         15  0.428571  \n",
       "26123               6              0         15  0.428571  \n",
       "1434202             6              0         15  0.428571  \n",
       "558405              4              0         10  0.428571  \n",
       "263762              6              0         15  0.428571  "
      ]
     },
     "execution_count": 82,
     "metadata": {},
     "output_type": "execute_result"
    }
   ],
   "source": [
    "# change type in column count_minus10 from float to int\n",
    "df['count_minus10'] = df['count_minus10'].astype(int)\n",
    "df['count_minus1'] = df['count_minus1'].astype(int)\n",
    "df.head()"
   ]
  },
  {
   "cell_type": "code",
   "execution_count": null,
   "metadata": {},
   "outputs": [
    {
     "name": "stdout",
     "output_type": "stream",
     "text": [
      "min 100: 3\n",
      "max 100: 79\n"
     ]
    }
   ],
   "source": [
    "print('min 100:', df.count_100.min())\n",
    "print('max 100:', df.count_100.max())\n"
   ]
  },
  {
   "cell_type": "code",
   "execution_count": null,
   "metadata": {},
   "outputs": [
    {
     "data": {
      "text/plain": [
       "count    1.572897e+06\n",
       "mean     1.551748e+00\n",
       "std      1.361691e+00\n",
       "min      0.000000e+00\n",
       "25%      1.000000e+00\n",
       "50%      1.000000e+00\n",
       "75%      2.000000e+00\n",
       "max      1.000000e+01\n",
       "Name: count_minus1, dtype: float64"
      ]
     },
     "execution_count": 51,
     "metadata": {},
     "output_type": "execute_result"
    }
   ],
   "source": [
    "df.count_minus1.describe()"
   ]
  },
  {
   "cell_type": "code",
   "execution_count": null,
   "metadata": {},
   "outputs": [
    {
     "data": {
      "text/plain": [
       "count    1.572897e+06\n",
       "mean     4.018877e-01\n",
       "std      6.469249e-01\n",
       "min      0.000000e+00\n",
       "25%      0.000000e+00\n",
       "50%      0.000000e+00\n",
       "75%      1.000000e+00\n",
       "max      5.000000e+00\n",
       "Name: count_minus10, dtype: float64"
      ]
     },
     "execution_count": 52,
     "metadata": {},
     "output_type": "execute_result"
    }
   ],
   "source": [
    "df.count_minus10.describe()"
   ]
  },
  {
   "cell_type": "markdown",
   "metadata": {},
   "source": [
    "### Result 2:\n",
    "* solved problems:\n",
    "    * each problem (successfully) solved at least 3 times, max. 79 tines\n",
    "* loops:\n",
    "    * some problems never lead to a loop\n",
    "    * max. 5 times a problem lead to a loop\n",
    "* other errors:\n",
    "    * max. 10 times for unsolved problems\n",
    "* overall errors:\n",
    "    * no problem was unsolved more than 10 times"
   ]
  },
  {
   "cell_type": "code",
   "execution_count": null,
   "metadata": {},
   "outputs": [],
   "source": [
    "df['count_sum'] = df['count_100'] + df['count_minus1'] + df['count_minus10']"
   ]
  },
  {
   "cell_type": "code",
   "execution_count": null,
   "metadata": {},
   "outputs": [],
   "source": [
    "df['ratio'] = df['count_100'] / (df['count_sum'] + df['count_minus1'] + df['count_minus10'])"
   ]
  },
  {
   "cell_type": "code",
   "execution_count": null,
   "metadata": {},
   "outputs": [
    {
     "data": {
      "text/html": [
       "<div>\n",
       "<style scoped>\n",
       "    .dataframe tbody tr th:only-of-type {\n",
       "        vertical-align: middle;\n",
       "    }\n",
       "\n",
       "    .dataframe tbody tr th {\n",
       "        vertical-align: top;\n",
       "    }\n",
       "\n",
       "    .dataframe thead th {\n",
       "        text-align: right;\n",
       "    }\n",
       "</style>\n",
       "<table border=\"1\" class=\"dataframe\">\n",
       "  <thead>\n",
       "    <tr style=\"text-align: right;\">\n",
       "      <th></th>\n",
       "      <th>problem_id</th>\n",
       "      <th>reward</th>\n",
       "      <th>config</th>\n",
       "      <th>count_100</th>\n",
       "      <th>count_minus1</th>\n",
       "      <th>count_minus10</th>\n",
       "      <th>count_sum</th>\n",
       "      <th>ratio</th>\n",
       "    </tr>\n",
       "  </thead>\n",
       "  <tbody>\n",
       "    <tr>\n",
       "      <th>1499701</th>\n",
       "      <td>3724</td>\n",
       "      <td>100</td>\n",
       "      <td>[7 7 28 0 0 0 0 0 0 0 0 0 0 0 0 1 1 1 0 0 0 0 ...</td>\n",
       "      <td>15</td>\n",
       "      <td>0</td>\n",
       "      <td>0</td>\n",
       "      <td>15</td>\n",
       "      <td>1.0</td>\n",
       "    </tr>\n",
       "    <tr>\n",
       "      <th>309041</th>\n",
       "      <td>10464</td>\n",
       "      <td>100</td>\n",
       "      <td>[6 9 36 0 0 0 0 0 0 0 0 0 0 0 0 1 1 1 0 0 0 0 ...</td>\n",
       "      <td>43</td>\n",
       "      <td>0</td>\n",
       "      <td>0</td>\n",
       "      <td>43</td>\n",
       "      <td>1.0</td>\n",
       "    </tr>\n",
       "    <tr>\n",
       "      <th>302046</th>\n",
       "      <td>33313</td>\n",
       "      <td>100</td>\n",
       "      <td>[6 7 35 0 0 0 0 0 0 0 0 0 0 0 0 1 1 1 0 0 0 0 ...</td>\n",
       "      <td>30</td>\n",
       "      <td>0</td>\n",
       "      <td>0</td>\n",
       "      <td>30</td>\n",
       "      <td>1.0</td>\n",
       "    </tr>\n",
       "    <tr>\n",
       "      <th>25128</th>\n",
       "      <td>4707</td>\n",
       "      <td>100</td>\n",
       "      <td>[7 9 36 0 0 0 0 0 0 0 0 0 0 0 0 1 1 0 0 0 0 0 ...</td>\n",
       "      <td>42</td>\n",
       "      <td>0</td>\n",
       "      <td>0</td>\n",
       "      <td>42</td>\n",
       "      <td>1.0</td>\n",
       "    </tr>\n",
       "    <tr>\n",
       "      <th>1542131</th>\n",
       "      <td>4245</td>\n",
       "      <td>100</td>\n",
       "      <td>[7 9 42 0 0 0 0 0 0 0 0 0 0 0 0 0 1 1 0 0 0 0 ...</td>\n",
       "      <td>36</td>\n",
       "      <td>0</td>\n",
       "      <td>0</td>\n",
       "      <td>36</td>\n",
       "      <td>1.0</td>\n",
       "    </tr>\n",
       "  </tbody>\n",
       "</table>\n",
       "</div>"
      ],
      "text/plain": [
       "         problem_id  reward  \\\n",
       "1499701        3724     100   \n",
       "309041        10464     100   \n",
       "302046        33313     100   \n",
       "25128          4707     100   \n",
       "1542131        4245     100   \n",
       "\n",
       "                                                    config  count_100  \\\n",
       "1499701  [7 7 28 0 0 0 0 0 0 0 0 0 0 0 0 1 1 1 0 0 0 0 ...         15   \n",
       "309041   [6 9 36 0 0 0 0 0 0 0 0 0 0 0 0 1 1 1 0 0 0 0 ...         43   \n",
       "302046   [6 7 35 0 0 0 0 0 0 0 0 0 0 0 0 1 1 1 0 0 0 0 ...         30   \n",
       "25128    [7 9 36 0 0 0 0 0 0 0 0 0 0 0 0 1 1 0 0 0 0 0 ...         42   \n",
       "1542131  [7 9 42 0 0 0 0 0 0 0 0 0 0 0 0 0 1 1 0 0 0 0 ...         36   \n",
       "\n",
       "         count_minus1  count_minus10  count_sum  ratio  \n",
       "1499701             0              0         15    1.0  \n",
       "309041              0              0         43    1.0  \n",
       "302046              0              0         30    1.0  \n",
       "25128               0              0         42    1.0  \n",
       "1542131             0              0         36    1.0  "
      ]
     },
     "execution_count": 62,
     "metadata": {},
     "output_type": "execute_result"
    }
   ],
   "source": [
    "df_erfolgreich_immer = df[(df['count_minus1']== 0) & (df['count_minus10']== 0)] # create df with only problems that were solved without error\n",
    "df_erfolgreich_immer.head()"
   ]
  },
  {
   "cell_type": "code",
   "execution_count": null,
   "metadata": {},
   "outputs": [
    {
     "name": "stdout",
     "output_type": "stream",
     "text": [
      "Anzahl der immer gelösten Probleme: 8651\n",
      "Anteil der immer gelösten Probleme: 19.22%\n"
     ]
    }
   ],
   "source": [
    "array_erfolgreiche_ids = df_erfolgreich_immer['problem_id'].unique()\n",
    "anzahl_immer_gelöst = len(array_erfolgreiche_ids)\n",
    "anzahl_unique_ids = len(df['problem_id'].unique())\n",
    "anteil_erfolgreiche_ids = anzahl_immer_gelöst / anzahl_unique_ids\n",
    "print(f\"Anzahl der immer gelösten Probleme: {anzahl_immer_gelöst}\")\n",
    "print(f\"Anteil der immer gelösten Probleme: {round(anteil_erfolgreiche_ids*100, 2)}%\")"
   ]
  },
  {
   "cell_type": "markdown",
   "metadata": {},
   "source": [
    "### Result 3:\n",
    "* Anzahl der immer gelösten Probleme: 8651\n",
    "* Anteil der immer gelösten Probleme: 19.22%\n"
   ]
  },
  {
   "cell_type": "code",
   "execution_count": null,
   "metadata": {},
   "outputs": [
    {
     "data": {
      "text/html": [
       "<div>\n",
       "<style scoped>\n",
       "    .dataframe tbody tr th:only-of-type {\n",
       "        vertical-align: middle;\n",
       "    }\n",
       "\n",
       "    .dataframe tbody tr th {\n",
       "        vertical-align: top;\n",
       "    }\n",
       "\n",
       "    .dataframe thead th {\n",
       "        text-align: right;\n",
       "    }\n",
       "</style>\n",
       "<table border=\"1\" class=\"dataframe\">\n",
       "  <thead>\n",
       "    <tr style=\"text-align: right;\">\n",
       "      <th></th>\n",
       "      <th>problem_id</th>\n",
       "      <th>reward</th>\n",
       "      <th>config</th>\n",
       "      <th>count_100</th>\n",
       "      <th>count_minus1</th>\n",
       "      <th>count_minus10</th>\n",
       "      <th>count_sum</th>\n",
       "      <th>ratio</th>\n",
       "    </tr>\n",
       "  </thead>\n",
       "  <tbody>\n",
       "    <tr>\n",
       "      <th>0</th>\n",
       "      <td>20349</td>\n",
       "      <td>-10</td>\n",
       "      <td>[9 6 30 0 0 0 0 0 0 0 0 0 0 0 0 1 0 1 0 0 0 0 ...</td>\n",
       "      <td>32</td>\n",
       "      <td>2</td>\n",
       "      <td>1</td>\n",
       "      <td>35</td>\n",
       "      <td>0.842105</td>\n",
       "    </tr>\n",
       "    <tr>\n",
       "      <th>1</th>\n",
       "      <td>12731</td>\n",
       "      <td>-10</td>\n",
       "      <td>[6 7 12 0 0 0 0 0 0 0 0 0 0 0 0 1 1 1 0 0 0 0 ...</td>\n",
       "      <td>40</td>\n",
       "      <td>1</td>\n",
       "      <td>2</td>\n",
       "      <td>43</td>\n",
       "      <td>0.869565</td>\n",
       "    </tr>\n",
       "    <tr>\n",
       "      <th>2</th>\n",
       "      <td>20533</td>\n",
       "      <td>-10</td>\n",
       "      <td>[5 7 56 0 0 0 0 0 0 0 0 0 0 0 0 1 1 1 0 0 0 0 ...</td>\n",
       "      <td>23</td>\n",
       "      <td>0</td>\n",
       "      <td>2</td>\n",
       "      <td>25</td>\n",
       "      <td>0.851852</td>\n",
       "    </tr>\n",
       "    <tr>\n",
       "      <th>3</th>\n",
       "      <td>41315</td>\n",
       "      <td>-10</td>\n",
       "      <td>[6 9 24 0 0 0 0 0 0 0 0 0 0 0 0 1 1 1 0 0 0 0 ...</td>\n",
       "      <td>33</td>\n",
       "      <td>2</td>\n",
       "      <td>1</td>\n",
       "      <td>36</td>\n",
       "      <td>0.846154</td>\n",
       "    </tr>\n",
       "    <tr>\n",
       "      <th>4</th>\n",
       "      <td>22524</td>\n",
       "      <td>-10</td>\n",
       "      <td>[6 5 8 0 0 0 0 0 0 0 0 0 1 0 0 0 1 1 1 0 0 0 0...</td>\n",
       "      <td>30</td>\n",
       "      <td>0</td>\n",
       "      <td>2</td>\n",
       "      <td>32</td>\n",
       "      <td>0.882353</td>\n",
       "    </tr>\n",
       "  </tbody>\n",
       "</table>\n",
       "</div>"
      ],
      "text/plain": [
       "   problem_id  reward                                             config  \\\n",
       "0       20349     -10  [9 6 30 0 0 0 0 0 0 0 0 0 0 0 0 1 0 1 0 0 0 0 ...   \n",
       "1       12731     -10  [6 7 12 0 0 0 0 0 0 0 0 0 0 0 0 1 1 1 0 0 0 0 ...   \n",
       "2       20533     -10  [5 7 56 0 0 0 0 0 0 0 0 0 0 0 0 1 1 1 0 0 0 0 ...   \n",
       "3       41315     -10  [6 9 24 0 0 0 0 0 0 0 0 0 0 0 0 1 1 1 0 0 0 0 ...   \n",
       "4       22524     -10  [6 5 8 0 0 0 0 0 0 0 0 0 1 0 0 0 1 1 1 0 0 0 0...   \n",
       "\n",
       "   count_100  count_minus1  count_minus10  count_sum     ratio  \n",
       "0         32             2              1         35  0.842105  \n",
       "1         40             1              2         43  0.869565  \n",
       "2         23             0              2         25  0.851852  \n",
       "3         33             2              1         36  0.846154  \n",
       "4         30             0              2         32  0.882353  "
      ]
     },
     "execution_count": 58,
     "metadata": {},
     "output_type": "execute_result"
    }
   ],
   "source": [
    "df.head()"
   ]
  },
  {
   "cell_type": "code",
   "execution_count": null,
   "metadata": {},
   "outputs": [
    {
     "data": {
      "text/plain": [
       "count    1.572897e+06\n",
       "mean     3.790875e+01\n",
       "std      1.026549e+01\n",
       "min      4.000000e+00\n",
       "25%      3.100000e+01\n",
       "50%      3.700000e+01\n",
       "75%      4.400000e+01\n",
       "max      8.300000e+01\n",
       "Name: count_sum, dtype: float64"
      ]
     },
     "execution_count": 59,
     "metadata": {},
     "output_type": "execute_result"
    }
   ],
   "source": [
    "df.count_sum.describe()"
   ]
  },
  {
   "cell_type": "code",
   "execution_count": null,
   "metadata": {},
   "outputs": [
    {
     "data": {
      "text/plain": [
       "count    1.572897e+06\n",
       "mean     9.035994e-01\n",
       "std      7.155704e-02\n",
       "min      4.285714e-01\n",
       "25%      8.604651e-01\n",
       "50%      9.111111e-01\n",
       "75%      9.523810e-01\n",
       "max      1.000000e+00\n",
       "Name: ratio, dtype: float64"
      ]
     },
     "execution_count": 61,
     "metadata": {},
     "output_type": "execute_result"
    }
   ],
   "source": [
    "# sort df by count_sum\n",
    "df = df.sort_values(by=['ratio'], ascending=True)\n",
    "df.ratio.describe()"
   ]
  },
  {
   "cell_type": "markdown",
   "metadata": {},
   "source": [
    "### Result 4:\n",
    "* Each problem was solved at least 42% of the time during this training run\n",
    "* half of the problems were solved 91%-100% of the time\n",
    "* Obviously, these numbers can be pushed with longer training.. Nevertheless,  we see that all problems were solved several times, suggesting that we can argue for the effect of the training (/learning) of our agent"
   ]
  }
 ],
 "metadata": {
  "kernelspec": {
   "display_name": "Python 3 (ipykernel)",
   "language": "python",
   "name": "python3"
  },
  "language_info": {
   "codemirror_mode": {
    "name": "ipython",
    "version": 3
   },
   "file_extension": ".py",
   "mimetype": "text/x-python",
   "name": "python",
   "nbconvert_exporter": "python",
   "pygments_lexer": "ipython3",
   "version": "3.10.11"
  }
 },
 "nbformat": 4,
 "nbformat_minor": 2
}
