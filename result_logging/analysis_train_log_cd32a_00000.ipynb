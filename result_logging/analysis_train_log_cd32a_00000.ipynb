{
 "cells": [
  {
   "cell_type": "code",
   "execution_count": 39,
   "metadata": {},
   "outputs": [],
   "source": [
    "import pandas as pd\n",
    "import numpy as np"
   ]
  },
  {
   "cell_type": "code",
   "execution_count": 71,
   "metadata": {},
   "outputs": [],
   "source": [
    "df_original = pd.read_csv(\"cd32a_00000_log_train_run_PPO_4_edges_action_clipping.csv\", sep=\";\")"
   ]
  },
  {
   "cell_type": "code",
   "execution_count": 72,
   "metadata": {},
   "outputs": [
    {
     "data": {
      "text/plain": [
       "array([-10, 100,  -1])"
      ]
     },
     "execution_count": 72,
     "metadata": {},
     "output_type": "execute_result"
    }
   ],
   "source": [
    "df_original.reward.unique()"
   ]
  },
  {
   "cell_type": "code",
   "execution_count": 73,
   "metadata": {},
   "outputs": [
    {
     "data": {
      "text/plain": [
       " 100    1490834\n",
       "-1        65282\n",
       "-10       16781\n",
       "Name: reward, dtype: int64"
      ]
     },
     "execution_count": 73,
     "metadata": {},
     "output_type": "execute_result"
    }
   ],
   "source": [
    "#count how many times each value in reward is in df:\n",
    "df_original.reward.value_counts()\n"
   ]
  },
  {
   "cell_type": "code",
   "execution_count": 74,
   "metadata": {},
   "outputs": [
    {
     "name": "stdout",
     "output_type": "stream",
     "text": [
      "1572897\n",
      "1572897\n"
     ]
    }
   ],
   "source": [
    "# 1_572_897\n",
    "number_steps = 1490834 + 65282 + 16781\n",
    "print(number_steps)\n",
    "\n",
    "length_df = len(df_original)\n",
    "print(length_df)\n",
    "# Halleluja, counts match!"
   ]
  },
  {
   "cell_type": "code",
   "execution_count": 80,
   "metadata": {},
   "outputs": [
    {
     "name": "stdout",
     "output_type": "stream",
     "text": [
      "94.78\n",
      "4.15\n",
      "1.07\n"
     ]
    }
   ],
   "source": [
    "n_100 = df_original.reward.value_counts()[100]\n",
    "n_minus1 = df_original.reward.value_counts()[-1]\n",
    "n_minus10 = df_original.reward.value_counts()[-10]\n",
    "\n",
    "print(round(n_100/number_steps*100, 2))\n",
    "print(round(n_minus1/number_steps*100, 2))\n",
    "print(round(n_minus10/number_steps*100, 2))"
   ]
  },
  {
   "attachments": {},
   "cell_type": "markdown",
   "metadata": {},
   "source": [
    "### Result 1:\n",
    "* within approx. 1,600 steps  \n",
    "    * about 95% of steps lead to a solved problem\n",
    "    * about 1% lead to a loop in the board\n",
    "    * about 4% lead to a wrong value as a result, reached the maximum episode length or any other error"
   ]
  },
  {
   "cell_type": "code",
   "execution_count": 43,
   "metadata": {},
   "outputs": [
    {
     "data": {
      "text/html": [
       "<div>\n",
       "<style scoped>\n",
       "    .dataframe tbody tr th:only-of-type {\n",
       "        vertical-align: middle;\n",
       "    }\n",
       "\n",
       "    .dataframe tbody tr th {\n",
       "        vertical-align: top;\n",
       "    }\n",
       "\n",
       "    .dataframe thead th {\n",
       "        text-align: right;\n",
       "    }\n",
       "</style>\n",
       "<table border=\"1\" class=\"dataframe\">\n",
       "  <thead>\n",
       "    <tr style=\"text-align: right;\">\n",
       "      <th></th>\n",
       "      <th>problem_id</th>\n",
       "      <th>reward</th>\n",
       "      <th>config</th>\n",
       "      <th>count_100</th>\n",
       "    </tr>\n",
       "  </thead>\n",
       "  <tbody>\n",
       "    <tr>\n",
       "      <th>0</th>\n",
       "      <td>20349</td>\n",
       "      <td>-10</td>\n",
       "      <td>[9 6 30 0 0 0 0 0 0 0 0 0 0 0 0 1 0 1 0 0 0 0 ...</td>\n",
       "      <td>32</td>\n",
       "    </tr>\n",
       "    <tr>\n",
       "      <th>1</th>\n",
       "      <td>12731</td>\n",
       "      <td>-10</td>\n",
       "      <td>[6 7 12 0 0 0 0 0 0 0 0 0 0 0 0 1 1 1 0 0 0 0 ...</td>\n",
       "      <td>40</td>\n",
       "    </tr>\n",
       "    <tr>\n",
       "      <th>2</th>\n",
       "      <td>20533</td>\n",
       "      <td>-10</td>\n",
       "      <td>[5 7 56 0 0 0 0 0 0 0 0 0 0 0 0 1 1 1 0 0 0 0 ...</td>\n",
       "      <td>23</td>\n",
       "    </tr>\n",
       "    <tr>\n",
       "      <th>3</th>\n",
       "      <td>41315</td>\n",
       "      <td>-10</td>\n",
       "      <td>[6 9 24 0 0 0 0 0 0 0 0 0 0 0 0 1 1 1 0 0 0 0 ...</td>\n",
       "      <td>33</td>\n",
       "    </tr>\n",
       "    <tr>\n",
       "      <th>4</th>\n",
       "      <td>22524</td>\n",
       "      <td>-10</td>\n",
       "      <td>[6 5 8 0 0 0 0 0 0 0 0 0 1 0 0 0 1 1 1 0 0 0 0...</td>\n",
       "      <td>30</td>\n",
       "    </tr>\n",
       "  </tbody>\n",
       "</table>\n",
       "</div>"
      ],
      "text/plain": [
       "   problem_id  reward                                             config  \\\n",
       "0       20349     -10  [9 6 30 0 0 0 0 0 0 0 0 0 0 0 0 1 0 1 0 0 0 0 ...   \n",
       "1       12731     -10  [6 7 12 0 0 0 0 0 0 0 0 0 0 0 0 1 1 1 0 0 0 0 ...   \n",
       "2       20533     -10  [5 7 56 0 0 0 0 0 0 0 0 0 0 0 0 1 1 1 0 0 0 0 ...   \n",
       "3       41315     -10  [6 9 24 0 0 0 0 0 0 0 0 0 0 0 0 1 1 1 0 0 0 0 ...   \n",
       "4       22524     -10  [6 5 8 0 0 0 0 0 0 0 0 0 1 0 0 0 1 1 1 0 0 0 0...   \n",
       "\n",
       "   count_100  \n",
       "0         32  \n",
       "1         40  \n",
       "2         23  \n",
       "3         33  \n",
       "4         30  "
      ]
     },
     "execution_count": 43,
     "metadata": {},
     "output_type": "execute_result"
    }
   ],
   "source": [
    "# Inspecting each group of reward values:\n",
    "# reward = 100\n",
    "\n",
    "# Succesfully solved problems:\n",
    "df_100 = df_original[df_original['reward']==100]\n",
    "df_solved = df_100['problem_id'].value_counts() # count how many times each index is in df_100\n",
    "df_solved = df_solved.rename_axis('problem_id').reset_index(name='count_100') # rename columns\n",
    "df = pd.merge(df_original, df_solved, on='problem_id', how='left') # merge with original df\n",
    "df.head()"
   ]
  },
  {
   "cell_type": "code",
   "execution_count": 45,
   "metadata": {},
   "outputs": [
    {
     "data": {
      "text/html": [
       "<div>\n",
       "<style scoped>\n",
       "    .dataframe tbody tr th:only-of-type {\n",
       "        vertical-align: middle;\n",
       "    }\n",
       "\n",
       "    .dataframe tbody tr th {\n",
       "        vertical-align: top;\n",
       "    }\n",
       "\n",
       "    .dataframe thead th {\n",
       "        text-align: right;\n",
       "    }\n",
       "</style>\n",
       "<table border=\"1\" class=\"dataframe\">\n",
       "  <thead>\n",
       "    <tr style=\"text-align: right;\">\n",
       "      <th></th>\n",
       "      <th>problem_id</th>\n",
       "      <th>reward</th>\n",
       "      <th>config</th>\n",
       "      <th>count_100</th>\n",
       "      <th>count_minus1</th>\n",
       "    </tr>\n",
       "  </thead>\n",
       "  <tbody>\n",
       "    <tr>\n",
       "      <th>0</th>\n",
       "      <td>20349</td>\n",
       "      <td>-10</td>\n",
       "      <td>[9 6 30 0 0 0 0 0 0 0 0 0 0 0 0 1 0 1 0 0 0 0 ...</td>\n",
       "      <td>32</td>\n",
       "      <td>2.0</td>\n",
       "    </tr>\n",
       "    <tr>\n",
       "      <th>1</th>\n",
       "      <td>12731</td>\n",
       "      <td>-10</td>\n",
       "      <td>[6 7 12 0 0 0 0 0 0 0 0 0 0 0 0 1 1 1 0 0 0 0 ...</td>\n",
       "      <td>40</td>\n",
       "      <td>1.0</td>\n",
       "    </tr>\n",
       "    <tr>\n",
       "      <th>2</th>\n",
       "      <td>20533</td>\n",
       "      <td>-10</td>\n",
       "      <td>[5 7 56 0 0 0 0 0 0 0 0 0 0 0 0 1 1 1 0 0 0 0 ...</td>\n",
       "      <td>23</td>\n",
       "      <td>NaN</td>\n",
       "    </tr>\n",
       "    <tr>\n",
       "      <th>3</th>\n",
       "      <td>41315</td>\n",
       "      <td>-10</td>\n",
       "      <td>[6 9 24 0 0 0 0 0 0 0 0 0 0 0 0 1 1 1 0 0 0 0 ...</td>\n",
       "      <td>33</td>\n",
       "      <td>2.0</td>\n",
       "    </tr>\n",
       "    <tr>\n",
       "      <th>4</th>\n",
       "      <td>22524</td>\n",
       "      <td>-10</td>\n",
       "      <td>[6 5 8 0 0 0 0 0 0 0 0 0 1 0 0 0 1 1 1 0 0 0 0...</td>\n",
       "      <td>30</td>\n",
       "      <td>NaN</td>\n",
       "    </tr>\n",
       "  </tbody>\n",
       "</table>\n",
       "</div>"
      ],
      "text/plain": [
       "   problem_id  reward                                             config  \\\n",
       "0       20349     -10  [9 6 30 0 0 0 0 0 0 0 0 0 0 0 0 1 0 1 0 0 0 0 ...   \n",
       "1       12731     -10  [6 7 12 0 0 0 0 0 0 0 0 0 0 0 0 1 1 1 0 0 0 0 ...   \n",
       "2       20533     -10  [5 7 56 0 0 0 0 0 0 0 0 0 0 0 0 1 1 1 0 0 0 0 ...   \n",
       "3       41315     -10  [6 9 24 0 0 0 0 0 0 0 0 0 0 0 0 1 1 1 0 0 0 0 ...   \n",
       "4       22524     -10  [6 5 8 0 0 0 0 0 0 0 0 0 1 0 0 0 1 1 1 0 0 0 0...   \n",
       "\n",
       "   count_100  count_minus1  \n",
       "0         32           2.0  \n",
       "1         40           1.0  \n",
       "2         23           NaN  \n",
       "3         33           2.0  \n",
       "4         30           NaN  "
      ]
     },
     "execution_count": 45,
     "metadata": {},
     "output_type": "execute_result"
    }
   ],
   "source": [
    "# reward = -1 (error, no solution, max. steps reached, etc.)\n",
    "\n",
    "df_minus1 = df_original[df_original['reward']==-1]\n",
    "df_error = df_minus1['problem_id'].value_counts()\n",
    "df_error = df_error.rename_axis('problem_id').reset_index(name='count_minus1')\n",
    "df = pd.merge(df, df_error, on='problem_id', how='left')\n",
    "df.head()"
   ]
  },
  {
   "cell_type": "code",
   "execution_count": 47,
   "metadata": {},
   "outputs": [
    {
     "data": {
      "text/html": [
       "<div>\n",
       "<style scoped>\n",
       "    .dataframe tbody tr th:only-of-type {\n",
       "        vertical-align: middle;\n",
       "    }\n",
       "\n",
       "    .dataframe tbody tr th {\n",
       "        vertical-align: top;\n",
       "    }\n",
       "\n",
       "    .dataframe thead th {\n",
       "        text-align: right;\n",
       "    }\n",
       "</style>\n",
       "<table border=\"1\" class=\"dataframe\">\n",
       "  <thead>\n",
       "    <tr style=\"text-align: right;\">\n",
       "      <th></th>\n",
       "      <th>problem_id</th>\n",
       "      <th>reward</th>\n",
       "      <th>config</th>\n",
       "      <th>count_100</th>\n",
       "      <th>count_minus1</th>\n",
       "      <th>count_minus10</th>\n",
       "    </tr>\n",
       "  </thead>\n",
       "  <tbody>\n",
       "    <tr>\n",
       "      <th>0</th>\n",
       "      <td>20349</td>\n",
       "      <td>-10</td>\n",
       "      <td>[9 6 30 0 0 0 0 0 0 0 0 0 0 0 0 1 0 1 0 0 0 0 ...</td>\n",
       "      <td>32</td>\n",
       "      <td>2.0</td>\n",
       "      <td>1.0</td>\n",
       "    </tr>\n",
       "    <tr>\n",
       "      <th>1</th>\n",
       "      <td>12731</td>\n",
       "      <td>-10</td>\n",
       "      <td>[6 7 12 0 0 0 0 0 0 0 0 0 0 0 0 1 1 1 0 0 0 0 ...</td>\n",
       "      <td>40</td>\n",
       "      <td>1.0</td>\n",
       "      <td>2.0</td>\n",
       "    </tr>\n",
       "    <tr>\n",
       "      <th>2</th>\n",
       "      <td>20533</td>\n",
       "      <td>-10</td>\n",
       "      <td>[5 7 56 0 0 0 0 0 0 0 0 0 0 0 0 1 1 1 0 0 0 0 ...</td>\n",
       "      <td>23</td>\n",
       "      <td>NaN</td>\n",
       "      <td>2.0</td>\n",
       "    </tr>\n",
       "    <tr>\n",
       "      <th>3</th>\n",
       "      <td>41315</td>\n",
       "      <td>-10</td>\n",
       "      <td>[6 9 24 0 0 0 0 0 0 0 0 0 0 0 0 1 1 1 0 0 0 0 ...</td>\n",
       "      <td>33</td>\n",
       "      <td>2.0</td>\n",
       "      <td>1.0</td>\n",
       "    </tr>\n",
       "    <tr>\n",
       "      <th>4</th>\n",
       "      <td>22524</td>\n",
       "      <td>-10</td>\n",
       "      <td>[6 5 8 0 0 0 0 0 0 0 0 0 1 0 0 0 1 1 1 0 0 0 0...</td>\n",
       "      <td>30</td>\n",
       "      <td>NaN</td>\n",
       "      <td>2.0</td>\n",
       "    </tr>\n",
       "  </tbody>\n",
       "</table>\n",
       "</div>"
      ],
      "text/plain": [
       "   problem_id  reward                                             config  \\\n",
       "0       20349     -10  [9 6 30 0 0 0 0 0 0 0 0 0 0 0 0 1 0 1 0 0 0 0 ...   \n",
       "1       12731     -10  [6 7 12 0 0 0 0 0 0 0 0 0 0 0 0 1 1 1 0 0 0 0 ...   \n",
       "2       20533     -10  [5 7 56 0 0 0 0 0 0 0 0 0 0 0 0 1 1 1 0 0 0 0 ...   \n",
       "3       41315     -10  [6 9 24 0 0 0 0 0 0 0 0 0 0 0 0 1 1 1 0 0 0 0 ...   \n",
       "4       22524     -10  [6 5 8 0 0 0 0 0 0 0 0 0 1 0 0 0 1 1 1 0 0 0 0...   \n",
       "\n",
       "   count_100  count_minus1  count_minus10  \n",
       "0         32           2.0            1.0  \n",
       "1         40           1.0            2.0  \n",
       "2         23           NaN            2.0  \n",
       "3         33           2.0            1.0  \n",
       "4         30           NaN            2.0  "
      ]
     },
     "execution_count": 47,
     "metadata": {},
     "output_type": "execute_result"
    }
   ],
   "source": [
    "# reward = -10 (loop)\n",
    "\n",
    "df_minus10 = df_original[df_original['reward']==-10]\n",
    "df_loop = df_minus10['problem_id'].value_counts()\n",
    "df_loop = df_loop.rename_axis('problem_id').reset_index(name='count_minus10')\n",
    "df = pd.merge(df, df_loop, on='problem_id', how='left')\n",
    "df.head()"
   ]
  },
  {
   "cell_type": "code",
   "execution_count": 84,
   "metadata": {},
   "outputs": [],
   "source": [
    "# check if any problem was never solved\n",
    "df['unsolved'] = np.where(df['count_100'].isnull(), 1, 0)\n",
    "df.unsolved.describe()"
   ]
  },
  {
   "cell_type": "code",
   "execution_count": 89,
   "metadata": {},
   "outputs": [
    {
     "data": {
      "text/plain": [
       "count    1.572897e+06\n",
       "mean     1.953636e+00\n",
       "std      1.534249e+00\n",
       "min      0.000000e+00\n",
       "25%      1.000000e+00\n",
       "50%      2.000000e+00\n",
       "75%      3.000000e+00\n",
       "max      1.000000e+01\n",
       "Name: count_error, dtype: float64"
      ]
     },
     "execution_count": 89,
     "metadata": {},
     "output_type": "execute_result"
    }
   ],
   "source": [
    "# check how many times a problem was not solved\n",
    "df['count_error'] = df['count_minus1'] + df['count_minus10']\n",
    "df.count_error.describe()"
   ]
  },
  {
   "cell_type": "code",
   "execution_count": 48,
   "metadata": {},
   "outputs": [],
   "source": [
    "# replace NaN with 0\n",
    "df = df.fillna(0)"
   ]
  },
  {
   "cell_type": "code",
   "execution_count": 82,
   "metadata": {},
   "outputs": [
    {
     "data": {
      "text/html": [
       "<div>\n",
       "<style scoped>\n",
       "    .dataframe tbody tr th:only-of-type {\n",
       "        vertical-align: middle;\n",
       "    }\n",
       "\n",
       "    .dataframe tbody tr th {\n",
       "        vertical-align: top;\n",
       "    }\n",
       "\n",
       "    .dataframe thead th {\n",
       "        text-align: right;\n",
       "    }\n",
       "</style>\n",
       "<table border=\"1\" class=\"dataframe\">\n",
       "  <thead>\n",
       "    <tr style=\"text-align: right;\">\n",
       "      <th></th>\n",
       "      <th>problem_id</th>\n",
       "      <th>reward</th>\n",
       "      <th>config</th>\n",
       "      <th>count_100</th>\n",
       "      <th>count_minus1</th>\n",
       "      <th>count_minus10</th>\n",
       "      <th>count_sum</th>\n",
       "      <th>ratio</th>\n",
       "    </tr>\n",
       "  </thead>\n",
       "  <tbody>\n",
       "    <tr>\n",
       "      <th>26125</th>\n",
       "      <td>42467</td>\n",
       "      <td>-1</td>\n",
       "      <td>[7 9 43 0 0 0 0 0 0 0 0 0 0 0 0 0 1 1 0 0 0 0 ...</td>\n",
       "      <td>9</td>\n",
       "      <td>6</td>\n",
       "      <td>0</td>\n",
       "      <td>15</td>\n",
       "      <td>0.428571</td>\n",
       "    </tr>\n",
       "    <tr>\n",
       "      <th>26123</th>\n",
       "      <td>42467</td>\n",
       "      <td>-1</td>\n",
       "      <td>[7 9 43 0 0 0 0 0 0 0 0 0 0 0 0 0 1 1 0 0 0 0 ...</td>\n",
       "      <td>9</td>\n",
       "      <td>6</td>\n",
       "      <td>0</td>\n",
       "      <td>15</td>\n",
       "      <td>0.428571</td>\n",
       "    </tr>\n",
       "    <tr>\n",
       "      <th>1434202</th>\n",
       "      <td>42467</td>\n",
       "      <td>100</td>\n",
       "      <td>[7 9 43 0 0 0 0 0 0 0 0 0 0 0 0 0 1 1 0 0 0 0 ...</td>\n",
       "      <td>9</td>\n",
       "      <td>6</td>\n",
       "      <td>0</td>\n",
       "      <td>15</td>\n",
       "      <td>0.428571</td>\n",
       "    </tr>\n",
       "    <tr>\n",
       "      <th>558405</th>\n",
       "      <td>10149</td>\n",
       "      <td>100</td>\n",
       "      <td>[5 9 36 0 0 0 0 0 0 0 0 0 0 0 0 1 1 1 0 0 0 0 ...</td>\n",
       "      <td>6</td>\n",
       "      <td>4</td>\n",
       "      <td>0</td>\n",
       "      <td>10</td>\n",
       "      <td>0.428571</td>\n",
       "    </tr>\n",
       "    <tr>\n",
       "      <th>263762</th>\n",
       "      <td>42467</td>\n",
       "      <td>-1</td>\n",
       "      <td>[7 9 43 0 0 0 0 0 0 0 0 0 0 0 0 0 1 1 0 0 0 0 ...</td>\n",
       "      <td>9</td>\n",
       "      <td>6</td>\n",
       "      <td>0</td>\n",
       "      <td>15</td>\n",
       "      <td>0.428571</td>\n",
       "    </tr>\n",
       "  </tbody>\n",
       "</table>\n",
       "</div>"
      ],
      "text/plain": [
       "         problem_id  reward  \\\n",
       "26125         42467      -1   \n",
       "26123         42467      -1   \n",
       "1434202       42467     100   \n",
       "558405        10149     100   \n",
       "263762        42467      -1   \n",
       "\n",
       "                                                    config  count_100  \\\n",
       "26125    [7 9 43 0 0 0 0 0 0 0 0 0 0 0 0 0 1 1 0 0 0 0 ...          9   \n",
       "26123    [7 9 43 0 0 0 0 0 0 0 0 0 0 0 0 0 1 1 0 0 0 0 ...          9   \n",
       "1434202  [7 9 43 0 0 0 0 0 0 0 0 0 0 0 0 0 1 1 0 0 0 0 ...          9   \n",
       "558405   [5 9 36 0 0 0 0 0 0 0 0 0 0 0 0 1 1 1 0 0 0 0 ...          6   \n",
       "263762   [7 9 43 0 0 0 0 0 0 0 0 0 0 0 0 0 1 1 0 0 0 0 ...          9   \n",
       "\n",
       "         count_minus1  count_minus10  count_sum     ratio  \n",
       "26125               6              0         15  0.428571  \n",
       "26123               6              0         15  0.428571  \n",
       "1434202             6              0         15  0.428571  \n",
       "558405              4              0         10  0.428571  \n",
       "263762              6              0         15  0.428571  "
      ]
     },
     "execution_count": 82,
     "metadata": {},
     "output_type": "execute_result"
    }
   ],
   "source": [
    "# change type in column count_minus10 from float to int\n",
    "df['count_minus10'] = df['count_minus10'].astype(int)\n",
    "df['count_minus1'] = df['count_minus1'].astype(int)\n",
    "df.head()"
   ]
  },
  {
   "cell_type": "code",
   "execution_count": 83,
   "metadata": {},
   "outputs": [
    {
     "name": "stdout",
     "output_type": "stream",
     "text": [
      "min 100: 3\n",
      "max 100: 79\n"
     ]
    }
   ],
   "source": [
    "print('min 100:', df.count_100.min())\n",
    "print('max 100:', df.count_100.max())\n"
   ]
  },
  {
   "cell_type": "code",
   "execution_count": 51,
   "metadata": {},
   "outputs": [
    {
     "data": {
      "text/plain": [
       "count    1.572897e+06\n",
       "mean     1.551748e+00\n",
       "std      1.361691e+00\n",
       "min      0.000000e+00\n",
       "25%      1.000000e+00\n",
       "50%      1.000000e+00\n",
       "75%      2.000000e+00\n",
       "max      1.000000e+01\n",
       "Name: count_minus1, dtype: float64"
      ]
     },
     "execution_count": 51,
     "metadata": {},
     "output_type": "execute_result"
    }
   ],
   "source": [
    "df.count_minus1.describe()"
   ]
  },
  {
   "cell_type": "code",
   "execution_count": 52,
   "metadata": {},
   "outputs": [
    {
     "data": {
      "text/plain": [
       "count    1.572897e+06\n",
       "mean     4.018877e-01\n",
       "std      6.469249e-01\n",
       "min      0.000000e+00\n",
       "25%      0.000000e+00\n",
       "50%      0.000000e+00\n",
       "75%      1.000000e+00\n",
       "max      5.000000e+00\n",
       "Name: count_minus10, dtype: float64"
      ]
     },
     "execution_count": 52,
     "metadata": {},
     "output_type": "execute_result"
    }
   ],
   "source": [
    "df.count_minus10.describe()"
   ]
  },
  {
   "attachments": {},
   "cell_type": "markdown",
   "metadata": {},
   "source": [
    "### Result 2:\n",
    "* solved problems:\n",
    "    * each problem (successfully) solved at least 3 times, max. 79 tines\n",
    "* loops:\n",
    "    * some problems never lead to a loop\n",
    "    * max. 5 times a problem lead to a loop\n",
    "* other errors:\n",
    "    * max. 10 times for unsolved problems\n",
    "* overall errors:\n",
    "    * no problem was unsolved more than 10 times"
   ]
  },
  {
   "cell_type": "code",
   "execution_count": 53,
   "metadata": {},
   "outputs": [],
   "source": [
    "df['count_sum'] = df['count_100'] + df['count_minus1'] + df['count_minus10']"
   ]
  },
  {
   "cell_type": "code",
   "execution_count": 54,
   "metadata": {},
   "outputs": [],
   "source": [
    "df['ratio'] = df['count_100'] / (df['count_sum'] + df['count_minus1'] + df['count_minus10'])"
   ]
  },
  {
   "cell_type": "code",
   "execution_count": 62,
   "metadata": {},
   "outputs": [
    {
     "data": {
      "text/html": [
       "<div>\n",
       "<style scoped>\n",
       "    .dataframe tbody tr th:only-of-type {\n",
       "        vertical-align: middle;\n",
       "    }\n",
       "\n",
       "    .dataframe tbody tr th {\n",
       "        vertical-align: top;\n",
       "    }\n",
       "\n",
       "    .dataframe thead th {\n",
       "        text-align: right;\n",
       "    }\n",
       "</style>\n",
       "<table border=\"1\" class=\"dataframe\">\n",
       "  <thead>\n",
       "    <tr style=\"text-align: right;\">\n",
       "      <th></th>\n",
       "      <th>problem_id</th>\n",
       "      <th>reward</th>\n",
       "      <th>config</th>\n",
       "      <th>count_100</th>\n",
       "      <th>count_minus1</th>\n",
       "      <th>count_minus10</th>\n",
       "      <th>count_sum</th>\n",
       "      <th>ratio</th>\n",
       "    </tr>\n",
       "  </thead>\n",
       "  <tbody>\n",
       "    <tr>\n",
       "      <th>1499701</th>\n",
       "      <td>3724</td>\n",
       "      <td>100</td>\n",
       "      <td>[7 7 28 0 0 0 0 0 0 0 0 0 0 0 0 1 1 1 0 0 0 0 ...</td>\n",
       "      <td>15</td>\n",
       "      <td>0</td>\n",
       "      <td>0</td>\n",
       "      <td>15</td>\n",
       "      <td>1.0</td>\n",
       "    </tr>\n",
       "    <tr>\n",
       "      <th>309041</th>\n",
       "      <td>10464</td>\n",
       "      <td>100</td>\n",
       "      <td>[6 9 36 0 0 0 0 0 0 0 0 0 0 0 0 1 1 1 0 0 0 0 ...</td>\n",
       "      <td>43</td>\n",
       "      <td>0</td>\n",
       "      <td>0</td>\n",
       "      <td>43</td>\n",
       "      <td>1.0</td>\n",
       "    </tr>\n",
       "    <tr>\n",
       "      <th>302046</th>\n",
       "      <td>33313</td>\n",
       "      <td>100</td>\n",
       "      <td>[6 7 35 0 0 0 0 0 0 0 0 0 0 0 0 1 1 1 0 0 0 0 ...</td>\n",
       "      <td>30</td>\n",
       "      <td>0</td>\n",
       "      <td>0</td>\n",
       "      <td>30</td>\n",
       "      <td>1.0</td>\n",
       "    </tr>\n",
       "    <tr>\n",
       "      <th>25128</th>\n",
       "      <td>4707</td>\n",
       "      <td>100</td>\n",
       "      <td>[7 9 36 0 0 0 0 0 0 0 0 0 0 0 0 1 1 0 0 0 0 0 ...</td>\n",
       "      <td>42</td>\n",
       "      <td>0</td>\n",
       "      <td>0</td>\n",
       "      <td>42</td>\n",
       "      <td>1.0</td>\n",
       "    </tr>\n",
       "    <tr>\n",
       "      <th>1542131</th>\n",
       "      <td>4245</td>\n",
       "      <td>100</td>\n",
       "      <td>[7 9 42 0 0 0 0 0 0 0 0 0 0 0 0 0 1 1 0 0 0 0 ...</td>\n",
       "      <td>36</td>\n",
       "      <td>0</td>\n",
       "      <td>0</td>\n",
       "      <td>36</td>\n",
       "      <td>1.0</td>\n",
       "    </tr>\n",
       "  </tbody>\n",
       "</table>\n",
       "</div>"
      ],
      "text/plain": [
       "         problem_id  reward  \\\n",
       "1499701        3724     100   \n",
       "309041        10464     100   \n",
       "302046        33313     100   \n",
       "25128          4707     100   \n",
       "1542131        4245     100   \n",
       "\n",
       "                                                    config  count_100  \\\n",
       "1499701  [7 7 28 0 0 0 0 0 0 0 0 0 0 0 0 1 1 1 0 0 0 0 ...         15   \n",
       "309041   [6 9 36 0 0 0 0 0 0 0 0 0 0 0 0 1 1 1 0 0 0 0 ...         43   \n",
       "302046   [6 7 35 0 0 0 0 0 0 0 0 0 0 0 0 1 1 1 0 0 0 0 ...         30   \n",
       "25128    [7 9 36 0 0 0 0 0 0 0 0 0 0 0 0 1 1 0 0 0 0 0 ...         42   \n",
       "1542131  [7 9 42 0 0 0 0 0 0 0 0 0 0 0 0 0 1 1 0 0 0 0 ...         36   \n",
       "\n",
       "         count_minus1  count_minus10  count_sum  ratio  \n",
       "1499701             0              0         15    1.0  \n",
       "309041              0              0         43    1.0  \n",
       "302046              0              0         30    1.0  \n",
       "25128               0              0         42    1.0  \n",
       "1542131             0              0         36    1.0  "
      ]
     },
     "execution_count": 62,
     "metadata": {},
     "output_type": "execute_result"
    }
   ],
   "source": [
    "df_erfolgreich_immer = df[(df['count_minus1']== 0) & (df['count_minus10']== 0)] # create df with only problems that were solved without error\n",
    "df_erfolgreich_immer.head()"
   ]
  },
  {
   "cell_type": "code",
   "execution_count": 57,
   "metadata": {},
   "outputs": [
    {
     "name": "stdout",
     "output_type": "stream",
     "text": [
      "Anzahl der immer gelösten Probleme: 8651\n",
      "Anteil der immer gelösten Probleme: 19.22%\n"
     ]
    }
   ],
   "source": [
    "array_erfolgreiche_ids = df_erfolgreich_immer['problem_id'].unique()\n",
    "anzahl_immer_gelöst = len(array_erfolgreiche_ids)\n",
    "anzahl_unique_ids = len(df['problem_id'].unique())\n",
    "anteil_erfolgreiche_ids = anzahl_immer_gelöst / anzahl_unique_ids\n",
    "print(f\"Anzahl der immer gelösten Probleme: {anzahl_immer_gelöst}\")\n",
    "print(f\"Anteil der immer gelösten Probleme: {round(anteil_erfolgreiche_ids*100, 2)}%\")"
   ]
  },
  {
   "attachments": {},
   "cell_type": "markdown",
   "metadata": {},
   "source": [
    "### Result 3:\n",
    "* Anzahl der immer gelösten Probleme: 8651\n",
    "* Anteil der immer gelösten Probleme: 19.22%\n"
   ]
  },
  {
   "cell_type": "code",
   "execution_count": 58,
   "metadata": {},
   "outputs": [
    {
     "data": {
      "text/html": [
       "<div>\n",
       "<style scoped>\n",
       "    .dataframe tbody tr th:only-of-type {\n",
       "        vertical-align: middle;\n",
       "    }\n",
       "\n",
       "    .dataframe tbody tr th {\n",
       "        vertical-align: top;\n",
       "    }\n",
       "\n",
       "    .dataframe thead th {\n",
       "        text-align: right;\n",
       "    }\n",
       "</style>\n",
       "<table border=\"1\" class=\"dataframe\">\n",
       "  <thead>\n",
       "    <tr style=\"text-align: right;\">\n",
       "      <th></th>\n",
       "      <th>problem_id</th>\n",
       "      <th>reward</th>\n",
       "      <th>config</th>\n",
       "      <th>count_100</th>\n",
       "      <th>count_minus1</th>\n",
       "      <th>count_minus10</th>\n",
       "      <th>count_sum</th>\n",
       "      <th>ratio</th>\n",
       "    </tr>\n",
       "  </thead>\n",
       "  <tbody>\n",
       "    <tr>\n",
       "      <th>0</th>\n",
       "      <td>20349</td>\n",
       "      <td>-10</td>\n",
       "      <td>[9 6 30 0 0 0 0 0 0 0 0 0 0 0 0 1 0 1 0 0 0 0 ...</td>\n",
       "      <td>32</td>\n",
       "      <td>2</td>\n",
       "      <td>1</td>\n",
       "      <td>35</td>\n",
       "      <td>0.842105</td>\n",
       "    </tr>\n",
       "    <tr>\n",
       "      <th>1</th>\n",
       "      <td>12731</td>\n",
       "      <td>-10</td>\n",
       "      <td>[6 7 12 0 0 0 0 0 0 0 0 0 0 0 0 1 1 1 0 0 0 0 ...</td>\n",
       "      <td>40</td>\n",
       "      <td>1</td>\n",
       "      <td>2</td>\n",
       "      <td>43</td>\n",
       "      <td>0.869565</td>\n",
       "    </tr>\n",
       "    <tr>\n",
       "      <th>2</th>\n",
       "      <td>20533</td>\n",
       "      <td>-10</td>\n",
       "      <td>[5 7 56 0 0 0 0 0 0 0 0 0 0 0 0 1 1 1 0 0 0 0 ...</td>\n",
       "      <td>23</td>\n",
       "      <td>0</td>\n",
       "      <td>2</td>\n",
       "      <td>25</td>\n",
       "      <td>0.851852</td>\n",
       "    </tr>\n",
       "    <tr>\n",
       "      <th>3</th>\n",
       "      <td>41315</td>\n",
       "      <td>-10</td>\n",
       "      <td>[6 9 24 0 0 0 0 0 0 0 0 0 0 0 0 1 1 1 0 0 0 0 ...</td>\n",
       "      <td>33</td>\n",
       "      <td>2</td>\n",
       "      <td>1</td>\n",
       "      <td>36</td>\n",
       "      <td>0.846154</td>\n",
       "    </tr>\n",
       "    <tr>\n",
       "      <th>4</th>\n",
       "      <td>22524</td>\n",
       "      <td>-10</td>\n",
       "      <td>[6 5 8 0 0 0 0 0 0 0 0 0 1 0 0 0 1 1 1 0 0 0 0...</td>\n",
       "      <td>30</td>\n",
       "      <td>0</td>\n",
       "      <td>2</td>\n",
       "      <td>32</td>\n",
       "      <td>0.882353</td>\n",
       "    </tr>\n",
       "  </tbody>\n",
       "</table>\n",
       "</div>"
      ],
      "text/plain": [
       "   problem_id  reward                                             config  \\\n",
       "0       20349     -10  [9 6 30 0 0 0 0 0 0 0 0 0 0 0 0 1 0 1 0 0 0 0 ...   \n",
       "1       12731     -10  [6 7 12 0 0 0 0 0 0 0 0 0 0 0 0 1 1 1 0 0 0 0 ...   \n",
       "2       20533     -10  [5 7 56 0 0 0 0 0 0 0 0 0 0 0 0 1 1 1 0 0 0 0 ...   \n",
       "3       41315     -10  [6 9 24 0 0 0 0 0 0 0 0 0 0 0 0 1 1 1 0 0 0 0 ...   \n",
       "4       22524     -10  [6 5 8 0 0 0 0 0 0 0 0 0 1 0 0 0 1 1 1 0 0 0 0...   \n",
       "\n",
       "   count_100  count_minus1  count_minus10  count_sum     ratio  \n",
       "0         32             2              1         35  0.842105  \n",
       "1         40             1              2         43  0.869565  \n",
       "2         23             0              2         25  0.851852  \n",
       "3         33             2              1         36  0.846154  \n",
       "4         30             0              2         32  0.882353  "
      ]
     },
     "execution_count": 58,
     "metadata": {},
     "output_type": "execute_result"
    }
   ],
   "source": [
    "df.head()"
   ]
  },
  {
   "cell_type": "code",
   "execution_count": 59,
   "metadata": {},
   "outputs": [
    {
     "data": {
      "text/plain": [
       "count    1.572897e+06\n",
       "mean     3.790875e+01\n",
       "std      1.026549e+01\n",
       "min      4.000000e+00\n",
       "25%      3.100000e+01\n",
       "50%      3.700000e+01\n",
       "75%      4.400000e+01\n",
       "max      8.300000e+01\n",
       "Name: count_sum, dtype: float64"
      ]
     },
     "execution_count": 59,
     "metadata": {},
     "output_type": "execute_result"
    }
   ],
   "source": [
    "df.count_sum.describe()"
   ]
  },
  {
   "cell_type": "code",
   "execution_count": 61,
   "metadata": {},
   "outputs": [
    {
     "data": {
      "text/plain": [
       "count    1.572897e+06\n",
       "mean     9.035994e-01\n",
       "std      7.155704e-02\n",
       "min      4.285714e-01\n",
       "25%      8.604651e-01\n",
       "50%      9.111111e-01\n",
       "75%      9.523810e-01\n",
       "max      1.000000e+00\n",
       "Name: ratio, dtype: float64"
      ]
     },
     "execution_count": 61,
     "metadata": {},
     "output_type": "execute_result"
    }
   ],
   "source": [
    "# sort df by count_sum\n",
    "df = df.sort_values(by=['ratio'], ascending=True)\n",
    "df.ratio.describe()"
   ]
  },
  {
   "attachments": {},
   "cell_type": "markdown",
   "metadata": {},
   "source": [
    "### Result 4:\n",
    "* Each problem was solved at least 42% of the time during this training run\n",
    "* half of the problems were solved 91%-100% of the time\n",
    "* Obviously, these numbers can be pushed with longer training.. Nevertheless,  we see that all problems were solved several times, suggesting that we can argue for the effect of the training (/learning) of our agent"
   ]
  }
 ],
 "metadata": {
  "kernelspec": {
   "display_name": "venv",
   "language": "python",
   "name": "python3"
  },
  "language_info": {
   "codemirror_mode": {
    "name": "ipython",
    "version": 3
   },
   "file_extension": ".py",
   "mimetype": "text/x-python",
   "name": "python",
   "nbconvert_exporter": "python",
   "pygments_lexer": "ipython3",
   "version": "3.10.6"
  },
  "orig_nbformat": 4
 },
 "nbformat": 4,
 "nbformat_minor": 2
}
