{
 "cells": [
  {
   "attachments": {},
   "cell_type": "markdown",
   "metadata": {},
   "source": [
    "# Load librabies"
   ]
  },
  {
   "cell_type": "code",
   "execution_count": 14,
   "metadata": {},
   "outputs": [],
   "source": [
    "import pickle\n",
    "import torch\n",
    "import torch.nn as nn\n",
    "import torch.nn.functional as F\n",
    "import dgl\n",
    "import random"
   ]
  },
  {
   "attachments": {},
   "cell_type": "markdown",
   "metadata": {},
   "source": [
    "# Load Data\n"
   ]
  },
  {
   "cell_type": "code",
   "execution_count": 24,
   "metadata": {},
   "outputs": [],
   "source": [
    "# Load the graph and the deleted edge information from the file\n",
    "with open(\"../../graphs_and_deleted_edges.pickle\", \"rb\") as f:\n",
    "    all_graphs, all_deleted_edges = pickle.load(f)"
   ]
  },
  {
   "cell_type": "code",
   "execution_count": 25,
   "metadata": {},
   "outputs": [
    {
     "name": "stdout",
     "output_type": "stream",
     "text": [
      "12 12\n"
     ]
    }
   ],
   "source": [
    "print(len(all_graphs), len(all_deleted_edges))"
   ]
  },
  {
   "cell_type": "code",
   "execution_count": 27,
   "metadata": {},
   "outputs": [
    {
     "data": {
      "text/plain": [
       "[(tensor(1),\n",
       "  tensor(0),\n",
       "  {'src_port': tensor([3]), 'dst_port': tensor([3]), 'edge_type': tensor([0])}),\n",
       " (tensor(1),\n",
       "  tensor(0),\n",
       "  {'src_port': tensor([2]), 'dst_port': tensor([2]), 'edge_type': tensor([0])}),\n",
       " (tensor(1),\n",
       "  tensor(0),\n",
       "  {'src_port': tensor([2]), 'dst_port': tensor([2]), 'edge_type': tensor([0])})]"
      ]
     },
     "execution_count": 27,
     "metadata": {},
     "output_type": "execute_result"
    }
   ],
   "source": [
    "all_deleted_edges[:3]"
   ]
  },
  {
   "cell_type": "code",
   "execution_count": 21,
   "metadata": {},
   "outputs": [],
   "source": [
    "# Split the data into training and validation sets\n",
    "train_graphs = []\n",
    "train_deleted_edges = []\n",
    "val_graphs = []\n",
    "val_deleted_edges = []\n",
    "\n",
    "for graph, deleted_edge in zip(all_graphs, all_deleted_edges):\n",
    "    if random.random() < 0.8:\n",
    "        train_graphs.append(graph)\n",
    "        train_deleted_edges.append(deleted_edge)\n",
    "    else:\n",
    "        val_graphs.append(graph)\n",
    "        val_deleted_edges.append(deleted_edge)\n"
   ]
  },
  {
   "cell_type": "code",
   "execution_count": 22,
   "metadata": {},
   "outputs": [
    {
     "name": "stdout",
     "output_type": "stream",
     "text": [
      "11 11\n"
     ]
    }
   ],
   "source": [
    "print(len(train_graphs), len(train_deleted_edges))"
   ]
  },
  {
   "attachments": {},
   "cell_type": "markdown",
   "metadata": {},
   "source": [
    "# Training"
   ]
  },
  {
   "cell_type": "code",
   "execution_count": null,
   "metadata": {},
   "outputs": [],
   "source": []
  }
 ],
 "metadata": {
  "kernelspec": {
   "display_name": "env",
   "language": "python",
   "name": "python3"
  },
  "language_info": {
   "codemirror_mode": {
    "name": "ipython",
    "version": 3
   },
   "file_extension": ".py",
   "mimetype": "text/x-python",
   "name": "python",
   "nbconvert_exporter": "python",
   "pygments_lexer": "ipython3",
   "version": "3.10.9"
  },
  "orig_nbformat": 4,
  "vscode": {
   "interpreter": {
    "hash": "070cdce012dd41a01f1f0ff20239b474e092c7a2b169ddafdace8d691490e16c"
   }
  }
 },
 "nbformat": 4,
 "nbformat_minor": 2
}
